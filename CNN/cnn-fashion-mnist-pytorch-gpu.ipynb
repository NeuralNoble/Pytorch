{
 "cells": [
  {
   "cell_type": "code",
   "id": "initial_id",
   "metadata": {
    "collapsed": true,
    "ExecuteTime": {
     "end_time": "2025-01-21T05:22:44.348098Z",
     "start_time": "2025-01-21T05:22:41.275101Z"
    }
   },
   "source": [
    "import torch\n",
    "import pandas as pd\n",
    "import numpy as np\n",
    "from torch.utils.data import Dataset, DataLoader\n",
    "import torch.nn as nn\n",
    "import torch.optim as optim\n",
    "import matplotlib.pyplot as plt\n",
    "from sklearn.model_selection import train_test_split"
   ],
   "outputs": [],
   "execution_count": 1
  },
  {
   "metadata": {
    "ExecuteTime": {
     "end_time": "2025-01-21T05:22:54.783751Z",
     "start_time": "2025-01-21T05:22:54.770749Z"
    }
   },
   "cell_type": "code",
   "source": "torch.manual_seed(42)",
   "id": "40b7b97672e152e9",
   "outputs": [
    {
     "data": {
      "text/plain": [
       "<torch._C.Generator at 0x1188b4270>"
      ]
     },
     "execution_count": 2,
     "metadata": {},
     "output_type": "execute_result"
    }
   ],
   "execution_count": 2
  },
  {
   "metadata": {
    "ExecuteTime": {
     "end_time": "2025-01-21T05:23:01.396099Z",
     "start_time": "2025-01-21T05:23:01.321439Z"
    }
   },
   "cell_type": "code",
   "source": [
    "# check for gpu\n",
    "device = torch.device('mps'  if torch.backends.mps.is_available() else 'cpu')\n",
    "print(f\"using: {device}\")"
   ],
   "id": "831f05d19a501df2",
   "outputs": [
    {
     "name": "stdout",
     "output_type": "stream",
     "text": [
      "using: mps\n"
     ]
    }
   ],
   "execution_count": 3
  },
  {
   "metadata": {
    "ExecuteTime": {
     "end_time": "2025-01-21T05:23:42.444996Z",
     "start_time": "2025-01-21T05:23:40.719203Z"
    }
   },
   "cell_type": "code",
   "source": [
    "df = pd.read_csv('data/fashion-mnist_train.csv')\n",
    "df"
   ],
   "id": "7248d062b4123bd1",
   "outputs": [
    {
     "data": {
      "text/plain": [
       "       label  pixel1  pixel2  pixel3  pixel4  pixel5  pixel6  pixel7  pixel8  \\\n",
       "0          2       0       0       0       0       0       0       0       0   \n",
       "1          9       0       0       0       0       0       0       0       0   \n",
       "2          6       0       0       0       0       0       0       0       5   \n",
       "3          0       0       0       0       1       2       0       0       0   \n",
       "4          3       0       0       0       0       0       0       0       0   \n",
       "...      ...     ...     ...     ...     ...     ...     ...     ...     ...   \n",
       "59995      9       0       0       0       0       0       0       0       0   \n",
       "59996      1       0       0       0       0       0       0       0       0   \n",
       "59997      8       0       0       0       0       0       0       0       0   \n",
       "59998      8       0       0       0       0       0       0       0       0   \n",
       "59999      7       0       0       0       0       0       0       0       0   \n",
       "\n",
       "       pixel9  ...  pixel775  pixel776  pixel777  pixel778  pixel779  \\\n",
       "0           0  ...         0         0         0         0         0   \n",
       "1           0  ...         0         0         0         0         0   \n",
       "2           0  ...         0         0         0        30        43   \n",
       "3           0  ...         3         0         0         0         0   \n",
       "4           0  ...         0         0         0         0         0   \n",
       "...       ...  ...       ...       ...       ...       ...       ...   \n",
       "59995       0  ...         0         0         0         0         0   \n",
       "59996       0  ...        73         0         0         0         0   \n",
       "59997       0  ...       160       162       163       135        94   \n",
       "59998       0  ...         0         0         0         0         0   \n",
       "59999       0  ...         0         0         0         0         0   \n",
       "\n",
       "       pixel780  pixel781  pixel782  pixel783  pixel784  \n",
       "0             0         0         0         0         0  \n",
       "1             0         0         0         0         0  \n",
       "2             0         0         0         0         0  \n",
       "3             1         0         0         0         0  \n",
       "4             0         0         0         0         0  \n",
       "...         ...       ...       ...       ...       ...  \n",
       "59995         0         0         0         0         0  \n",
       "59996         0         0         0         0         0  \n",
       "59997         0         0         0         0         0  \n",
       "59998         0         0         0         0         0  \n",
       "59999         0         0         0         0         0  \n",
       "\n",
       "[60000 rows x 785 columns]"
      ],
      "text/html": [
       "<div>\n",
       "<style scoped>\n",
       "    .dataframe tbody tr th:only-of-type {\n",
       "        vertical-align: middle;\n",
       "    }\n",
       "\n",
       "    .dataframe tbody tr th {\n",
       "        vertical-align: top;\n",
       "    }\n",
       "\n",
       "    .dataframe thead th {\n",
       "        text-align: right;\n",
       "    }\n",
       "</style>\n",
       "<table border=\"1\" class=\"dataframe\">\n",
       "  <thead>\n",
       "    <tr style=\"text-align: right;\">\n",
       "      <th></th>\n",
       "      <th>label</th>\n",
       "      <th>pixel1</th>\n",
       "      <th>pixel2</th>\n",
       "      <th>pixel3</th>\n",
       "      <th>pixel4</th>\n",
       "      <th>pixel5</th>\n",
       "      <th>pixel6</th>\n",
       "      <th>pixel7</th>\n",
       "      <th>pixel8</th>\n",
       "      <th>pixel9</th>\n",
       "      <th>...</th>\n",
       "      <th>pixel775</th>\n",
       "      <th>pixel776</th>\n",
       "      <th>pixel777</th>\n",
       "      <th>pixel778</th>\n",
       "      <th>pixel779</th>\n",
       "      <th>pixel780</th>\n",
       "      <th>pixel781</th>\n",
       "      <th>pixel782</th>\n",
       "      <th>pixel783</th>\n",
       "      <th>pixel784</th>\n",
       "    </tr>\n",
       "  </thead>\n",
       "  <tbody>\n",
       "    <tr>\n",
       "      <th>0</th>\n",
       "      <td>2</td>\n",
       "      <td>0</td>\n",
       "      <td>0</td>\n",
       "      <td>0</td>\n",
       "      <td>0</td>\n",
       "      <td>0</td>\n",
       "      <td>0</td>\n",
       "      <td>0</td>\n",
       "      <td>0</td>\n",
       "      <td>0</td>\n",
       "      <td>...</td>\n",
       "      <td>0</td>\n",
       "      <td>0</td>\n",
       "      <td>0</td>\n",
       "      <td>0</td>\n",
       "      <td>0</td>\n",
       "      <td>0</td>\n",
       "      <td>0</td>\n",
       "      <td>0</td>\n",
       "      <td>0</td>\n",
       "      <td>0</td>\n",
       "    </tr>\n",
       "    <tr>\n",
       "      <th>1</th>\n",
       "      <td>9</td>\n",
       "      <td>0</td>\n",
       "      <td>0</td>\n",
       "      <td>0</td>\n",
       "      <td>0</td>\n",
       "      <td>0</td>\n",
       "      <td>0</td>\n",
       "      <td>0</td>\n",
       "      <td>0</td>\n",
       "      <td>0</td>\n",
       "      <td>...</td>\n",
       "      <td>0</td>\n",
       "      <td>0</td>\n",
       "      <td>0</td>\n",
       "      <td>0</td>\n",
       "      <td>0</td>\n",
       "      <td>0</td>\n",
       "      <td>0</td>\n",
       "      <td>0</td>\n",
       "      <td>0</td>\n",
       "      <td>0</td>\n",
       "    </tr>\n",
       "    <tr>\n",
       "      <th>2</th>\n",
       "      <td>6</td>\n",
       "      <td>0</td>\n",
       "      <td>0</td>\n",
       "      <td>0</td>\n",
       "      <td>0</td>\n",
       "      <td>0</td>\n",
       "      <td>0</td>\n",
       "      <td>0</td>\n",
       "      <td>5</td>\n",
       "      <td>0</td>\n",
       "      <td>...</td>\n",
       "      <td>0</td>\n",
       "      <td>0</td>\n",
       "      <td>0</td>\n",
       "      <td>30</td>\n",
       "      <td>43</td>\n",
       "      <td>0</td>\n",
       "      <td>0</td>\n",
       "      <td>0</td>\n",
       "      <td>0</td>\n",
       "      <td>0</td>\n",
       "    </tr>\n",
       "    <tr>\n",
       "      <th>3</th>\n",
       "      <td>0</td>\n",
       "      <td>0</td>\n",
       "      <td>0</td>\n",
       "      <td>0</td>\n",
       "      <td>1</td>\n",
       "      <td>2</td>\n",
       "      <td>0</td>\n",
       "      <td>0</td>\n",
       "      <td>0</td>\n",
       "      <td>0</td>\n",
       "      <td>...</td>\n",
       "      <td>3</td>\n",
       "      <td>0</td>\n",
       "      <td>0</td>\n",
       "      <td>0</td>\n",
       "      <td>0</td>\n",
       "      <td>1</td>\n",
       "      <td>0</td>\n",
       "      <td>0</td>\n",
       "      <td>0</td>\n",
       "      <td>0</td>\n",
       "    </tr>\n",
       "    <tr>\n",
       "      <th>4</th>\n",
       "      <td>3</td>\n",
       "      <td>0</td>\n",
       "      <td>0</td>\n",
       "      <td>0</td>\n",
       "      <td>0</td>\n",
       "      <td>0</td>\n",
       "      <td>0</td>\n",
       "      <td>0</td>\n",
       "      <td>0</td>\n",
       "      <td>0</td>\n",
       "      <td>...</td>\n",
       "      <td>0</td>\n",
       "      <td>0</td>\n",
       "      <td>0</td>\n",
       "      <td>0</td>\n",
       "      <td>0</td>\n",
       "      <td>0</td>\n",
       "      <td>0</td>\n",
       "      <td>0</td>\n",
       "      <td>0</td>\n",
       "      <td>0</td>\n",
       "    </tr>\n",
       "    <tr>\n",
       "      <th>...</th>\n",
       "      <td>...</td>\n",
       "      <td>...</td>\n",
       "      <td>...</td>\n",
       "      <td>...</td>\n",
       "      <td>...</td>\n",
       "      <td>...</td>\n",
       "      <td>...</td>\n",
       "      <td>...</td>\n",
       "      <td>...</td>\n",
       "      <td>...</td>\n",
       "      <td>...</td>\n",
       "      <td>...</td>\n",
       "      <td>...</td>\n",
       "      <td>...</td>\n",
       "      <td>...</td>\n",
       "      <td>...</td>\n",
       "      <td>...</td>\n",
       "      <td>...</td>\n",
       "      <td>...</td>\n",
       "      <td>...</td>\n",
       "      <td>...</td>\n",
       "    </tr>\n",
       "    <tr>\n",
       "      <th>59995</th>\n",
       "      <td>9</td>\n",
       "      <td>0</td>\n",
       "      <td>0</td>\n",
       "      <td>0</td>\n",
       "      <td>0</td>\n",
       "      <td>0</td>\n",
       "      <td>0</td>\n",
       "      <td>0</td>\n",
       "      <td>0</td>\n",
       "      <td>0</td>\n",
       "      <td>...</td>\n",
       "      <td>0</td>\n",
       "      <td>0</td>\n",
       "      <td>0</td>\n",
       "      <td>0</td>\n",
       "      <td>0</td>\n",
       "      <td>0</td>\n",
       "      <td>0</td>\n",
       "      <td>0</td>\n",
       "      <td>0</td>\n",
       "      <td>0</td>\n",
       "    </tr>\n",
       "    <tr>\n",
       "      <th>59996</th>\n",
       "      <td>1</td>\n",
       "      <td>0</td>\n",
       "      <td>0</td>\n",
       "      <td>0</td>\n",
       "      <td>0</td>\n",
       "      <td>0</td>\n",
       "      <td>0</td>\n",
       "      <td>0</td>\n",
       "      <td>0</td>\n",
       "      <td>0</td>\n",
       "      <td>...</td>\n",
       "      <td>73</td>\n",
       "      <td>0</td>\n",
       "      <td>0</td>\n",
       "      <td>0</td>\n",
       "      <td>0</td>\n",
       "      <td>0</td>\n",
       "      <td>0</td>\n",
       "      <td>0</td>\n",
       "      <td>0</td>\n",
       "      <td>0</td>\n",
       "    </tr>\n",
       "    <tr>\n",
       "      <th>59997</th>\n",
       "      <td>8</td>\n",
       "      <td>0</td>\n",
       "      <td>0</td>\n",
       "      <td>0</td>\n",
       "      <td>0</td>\n",
       "      <td>0</td>\n",
       "      <td>0</td>\n",
       "      <td>0</td>\n",
       "      <td>0</td>\n",
       "      <td>0</td>\n",
       "      <td>...</td>\n",
       "      <td>160</td>\n",
       "      <td>162</td>\n",
       "      <td>163</td>\n",
       "      <td>135</td>\n",
       "      <td>94</td>\n",
       "      <td>0</td>\n",
       "      <td>0</td>\n",
       "      <td>0</td>\n",
       "      <td>0</td>\n",
       "      <td>0</td>\n",
       "    </tr>\n",
       "    <tr>\n",
       "      <th>59998</th>\n",
       "      <td>8</td>\n",
       "      <td>0</td>\n",
       "      <td>0</td>\n",
       "      <td>0</td>\n",
       "      <td>0</td>\n",
       "      <td>0</td>\n",
       "      <td>0</td>\n",
       "      <td>0</td>\n",
       "      <td>0</td>\n",
       "      <td>0</td>\n",
       "      <td>...</td>\n",
       "      <td>0</td>\n",
       "      <td>0</td>\n",
       "      <td>0</td>\n",
       "      <td>0</td>\n",
       "      <td>0</td>\n",
       "      <td>0</td>\n",
       "      <td>0</td>\n",
       "      <td>0</td>\n",
       "      <td>0</td>\n",
       "      <td>0</td>\n",
       "    </tr>\n",
       "    <tr>\n",
       "      <th>59999</th>\n",
       "      <td>7</td>\n",
       "      <td>0</td>\n",
       "      <td>0</td>\n",
       "      <td>0</td>\n",
       "      <td>0</td>\n",
       "      <td>0</td>\n",
       "      <td>0</td>\n",
       "      <td>0</td>\n",
       "      <td>0</td>\n",
       "      <td>0</td>\n",
       "      <td>...</td>\n",
       "      <td>0</td>\n",
       "      <td>0</td>\n",
       "      <td>0</td>\n",
       "      <td>0</td>\n",
       "      <td>0</td>\n",
       "      <td>0</td>\n",
       "      <td>0</td>\n",
       "      <td>0</td>\n",
       "      <td>0</td>\n",
       "      <td>0</td>\n",
       "    </tr>\n",
       "  </tbody>\n",
       "</table>\n",
       "<p>60000 rows × 785 columns</p>\n",
       "</div>"
      ]
     },
     "execution_count": 4,
     "metadata": {},
     "output_type": "execute_result"
    }
   ],
   "execution_count": 4
  },
  {
   "metadata": {
    "ExecuteTime": {
     "end_time": "2025-01-21T05:23:52.256764Z",
     "start_time": "2025-01-21T05:23:51.890533Z"
    }
   },
   "cell_type": "code",
   "source": [
    "# create 4*4 grid of images\n",
    "fig,axes = plt.subplots(4,4,figsize=(10,10))\n",
    "\n",
    "#plot the first 16 images from the dataset\n",
    "for i, ax in enumerate(axes.flat):\n",
    "    img = df.iloc[i,1:].values.reshape(28,28)\n",
    "    ax.imshow(img)\n",
    "    ax.axis('off')\n",
    "    ax.set_title(f\"Label: {df.iloc[i,0]}\")\n",
    "\n",
    "plt.tight_layout(rect=[0, 0, 1, 0.96])\n",
    "plt.show()"
   ],
   "id": "c99e3342be6e0c08",
   "outputs": [
    {
     "data": {
      "text/plain": [
       "<Figure size 1000x1000 with 16 Axes>"
      ],
      "image/png": "[encoded data removed]"
     },
     "metadata": {},
     "output_type": "display_data"
    }
   ],
   "execution_count": 5
  },
  {
   "metadata": {
    "ExecuteTime": {
     "end_time": "2025-01-21T05:24:26.178979Z",
     "start_time": "2025-01-21T05:24:26.163069Z"
    }
   },
   "cell_type": "code",
   "source": [
    "X = df.iloc[:,1:].values\n",
    "y = df.iloc[:,0].values"
   ],
   "id": "b2dacdd501a9580",
   "outputs": [],
   "execution_count": 6
  },
  {
   "metadata": {
    "ExecuteTime": {
     "end_time": "2025-01-21T05:24:35.328891Z",
     "start_time": "2025-01-21T05:24:34.626720Z"
    }
   },
   "cell_type": "code",
   "source": [
    "# train test split \n",
    "x_train, x_test, y_train, y_test = train_test_split(X, y, test_size=0.2, random_state=42)"
   ],
   "id": "4a7a956f728632c7",
   "outputs": [],
   "execution_count": 7
  },
  {
   "metadata": {
    "ExecuteTime": {
     "end_time": "2025-01-21T05:24:47.952652Z",
     "start_time": "2025-01-21T05:24:47.710879Z"
    }
   },
   "cell_type": "code",
   "source": [
    "# scaling the features\n",
    "x_train = x_train/255.0\n",
    "x_test = x_test/255.0"
   ],
   "id": "57c9fba286d2b597",
   "outputs": [],
   "execution_count": 8
  },
  {
   "metadata": {
    "ExecuteTime": {
     "end_time": "2025-01-21T05:27:09.424934Z",
     "start_time": "2025-01-21T05:27:09.416743Z"
    }
   },
   "cell_type": "code",
   "source": [
    "class CustomDataset(Dataset):\n",
    "    def __init__(self,features,labels):\n",
    "        self.features = torch.tensor(features,dtype=torch.float32).reshape(-1,1,28,28)\n",
    "        self.labels = torch.tensor(labels,dtype=torch.long)\n",
    "    \n",
    "    def __len__(self):\n",
    "        return len(self.features)\n",
    "    \n",
    "    def __getitem__(self, idx):\n",
    "        return self.features[idx],self.labels[idx]      "
   ],
   "id": "f96ee12d25e7afd1",
   "outputs": [],
   "execution_count": 9
  },
  {
   "metadata": {
    "ExecuteTime": {
     "end_time": "2025-01-21T05:27:20.588998Z",
     "start_time": "2025-01-21T05:27:20.353966Z"
    }
   },
   "cell_type": "code",
   "source": [
    "train_dataset = CustomDataset(x_train,y_train)\n",
    "test_dataset = CustomDataset(x_test,y_test)"
   ],
   "id": "c795f1ac9e146d31",
   "outputs": [],
   "execution_count": 10
  },
  {
   "metadata": {
    "ExecuteTime": {
     "end_time": "2025-01-21T05:27:33.768391Z",
     "start_time": "2025-01-21T05:27:33.755598Z"
    }
   },
   "cell_type": "code",
   "source": [
    "train_loader = DataLoader(dataset=train_dataset,batch_size=32,shuffle=True,pin_memory=True)\n",
    "test_loader = DataLoader(dataset=test_dataset,batch_size=32,shuffle=False,pin_memory=True)"
   ],
   "id": "1e2418ca0185e07e",
   "outputs": [],
   "execution_count": 11
  },
  {
   "metadata": {
    "ExecuteTime": {
     "end_time": "2025-01-21T05:58:53.661720Z",
     "start_time": "2025-01-21T05:58:53.636867Z"
    }
   },
   "cell_type": "code",
   "source": [
    "class MYCnn(nn.Module):\n",
    "    def __init__(self,input_features):\n",
    "        super().__init__()\n",
    "        self.features = nn.Sequential(\n",
    "            nn.Conv2d(input_features,32,kernel_size=3,padding='same'),\n",
    "            nn.ReLU(),\n",
    "            nn.BatchNorm2d(32),\n",
    "            nn.MaxPool2d(kernel_size=2,stride=2),\n",
    "            nn.Conv2d(32,64,kernel_size=3,padding='same'),\n",
    "            nn.ReLU(),\n",
    "            nn.BatchNorm2d(64),\n",
    "            nn.MaxPool2d(kernel_size=2,stride=2),\n",
    "        )\n",
    "        self.classifier = nn.Sequential(\n",
    "            nn.Flatten(),\n",
    "            nn.Linear(64*7*7,128),\n",
    "            nn.ReLU(),\n",
    "            nn.Dropout(0.4),\n",
    "            \n",
    "            nn.Linear(128,64),\n",
    "            nn.ReLU(),\n",
    "            nn.Dropout(0.4),\n",
    "             \n",
    "            nn.Linear(64,10),\n",
    "        )\n",
    "    \n",
    "    def forward(self, x):\n",
    "        x =self.features(x)\n",
    "        x = self.classifier(x)\n",
    "        return x"
   ],
   "id": "ab344e1662051a72",
   "outputs": [],
   "execution_count": 13
  },
  {
   "metadata": {},
   "cell_type": "code",
   "outputs": [],
   "execution_count": null,
   "source": "",
   "id": "b202ad449508f7a"
  },
  {
   "metadata": {},
   "cell_type": "markdown",
   "source": [
    "### **Summary of the Architecture (With Proper Understanding)**\n",
    "\n",
    "1. **Input**: \n",
    "   - Starts with an RGB image of shape \\((N, 3, H, W)\\), e.g., \\((1, 3, 64, 64)\\) for one \\(64 \\times 64\\) image.\n",
    "\n",
    "2. **First Block**: \n",
    "   - **Conv2d (3 → 32)**:  \n",
    "     - The input has 3 channels (R, G, B).  \n",
    "     - **32 kernels** (each 3 * 3 * 3) extract features by looking at all 3 channels.  \n",
    "     - Produces **32 feature maps**, so the output shape becomes \\((1, 32, 64, 64)\\).  \n",
    "   - **ReLU**: Introduces non-linearity to the feature maps.  \n",
    "   - **BatchNorm2d (32)**: Normalizes the 32 feature maps for stable training.  \n",
    "   - **MaxPool2d**: Halves the spatial dimensions, reducing the output shape to \\((1, 32, 32, 32)\\).  \n",
    "\n",
    "3. **Second Block**: \n",
    "   - **Conv2d (32 → 64)**:  \n",
    "     - The **input now has 32 channels**, which come from the 32 feature maps generated by the first convolution.  \n",
    "     - **64 kernels** (each \\(3 \\times 3 \\times 32\\)) learn to extract deeper features from these 32 input channels.  \n",
    "     - Produces **64 feature maps**, so the output shape becomes \\((1, 64, 32, 32)\\).  \n",
    "   - **ReLU**: Again, adds non-linearity to the deeper features.  \n",
    "   - **BatchNorm2d (64)**: Normalizes the 64 feature maps.  \n",
    "   - **MaxPool2d**: Halves the spatial dimensions again, reducing the output shape to \\((1, 64, 16, 16)\\).  \n",
    "\n",
    "---\n",
    "\n",
    "### Key Points :\n",
    "- After the **first convolution**, the 3 input channels (R, G, B) are expanded to **32 feature maps (channels)**.  \n",
    "- In the **second convolution**, these **32 channels** become the **input** for 64 filters, each of which looks at all 32 channels to learn more complex features.  \n",
    "\n"
   ],
   "id": "16b85c1d9a501f57"
  },
  {
   "metadata": {
    "ExecuteTime": {
     "end_time": "2025-01-21T05:59:04.745556Z",
     "start_time": "2025-01-21T05:59:04.739028Z"
    }
   },
   "cell_type": "code",
   "source": [
    "learning_rate = 0.1\n",
    "epochs = 100"
   ],
   "id": "4f8608a3adf2961",
   "outputs": [],
   "execution_count": 14
  },
  {
   "metadata": {
    "ExecuteTime": {
     "end_time": "2025-01-21T06:00:30.849041Z",
     "start_time": "2025-01-21T06:00:29.581936Z"
    }
   },
   "cell_type": "code",
   "source": [
    "model = MYCnn(1).to(device)\n",
    "criterion = nn.CrossEntropyLoss()\n",
    "optimizer = optim.SGD(model.parameters(), lr=learning_rate,weight_decay=1e-4)"
   ],
   "id": "877fee69daba3836",
   "outputs": [],
   "execution_count": 15
  },
  {
   "metadata": {
    "ExecuteTime": {
     "end_time": "2025-01-21T06:17:41.781698Z",
     "start_time": "2025-01-21T06:02:41.651974Z"
    }
   },
   "cell_type": "code",
   "source": [
    "# training loop\n",
    "for epoch in range(epochs):\n",
    "    \n",
    "    total_epoch_loss = 0\n",
    "    for batch_features , batch_labels in train_loader:\n",
    "        \n",
    "        # move data to GPU\n",
    "        batch_features = batch_features.to(device)\n",
    "        batch_labels = batch_labels.to(device)\n",
    "        \n",
    "        # forward pass\n",
    "        outputs = model(batch_features)\n",
    "        \n",
    "        # calculate loss\n",
    "        loss = criterion(outputs,batch_labels)\n",
    "        \n",
    "        # backprop\n",
    "        optimizer.zero_grad()\n",
    "        loss.backward()\n",
    "        \n",
    "        # update parameters\n",
    "        optimizer.step()\n",
    "        \n",
    "        total_epoch_loss += loss.item()\n",
    "    \n",
    "    avg_loss = total_epoch_loss / len(train_loader)\n",
    "    print(f'Epoch {epoch+1}, Loss: {avg_loss}')\n",
    "    "
   ],
   "id": "8ca459ea326f91e0",
   "outputs": [
    {
     "name": "stdout",
     "output_type": "stream",
     "text": [
      "Epoch 1, Loss: 0.5850534182985624\n",
      "Epoch 2, Loss: 0.4068483492285013\n",
      "Epoch 3, Loss: 0.3480337749893467\n",
      "Epoch 4, Loss: 0.3075542352323731\n",
      "Epoch 5, Loss: 0.2819638335282604\n",
      "Epoch 6, Loss: 0.2562350563754638\n",
      "Epoch 7, Loss: 0.2410438656906287\n",
      "Epoch 8, Loss: 0.22722327611067641\n",
      "Epoch 9, Loss: 0.21127346067130565\n",
      "Epoch 10, Loss: 0.19992373555153609\n",
      "Epoch 11, Loss: 0.18729119872053465\n",
      "Epoch 12, Loss: 0.18242957331240178\n",
      "Epoch 13, Loss: 0.1756614233860746\n",
      "Epoch 14, Loss: 0.17281870787839096\n",
      "Epoch 15, Loss: 0.16521015238777423\n",
      "Epoch 16, Loss: 0.16211753194686027\n",
      "Epoch 17, Loss: 0.15105527882371098\n",
      "Epoch 18, Loss: 0.14551836005132646\n",
      "Epoch 19, Loss: 0.14312271183996927\n",
      "Epoch 20, Loss: 0.13988954415063684\n",
      "Epoch 21, Loss: 0.13357453403109684\n",
      "Epoch 22, Loss: 0.13165521691258375\n",
      "Epoch 23, Loss: 0.12816127481202905\n",
      "Epoch 24, Loss: 0.1238006191944393\n",
      "Epoch 25, Loss: 0.11986361637509739\n",
      "Epoch 26, Loss: 0.11975456808953701\n",
      "Epoch 27, Loss: 0.11894141460823206\n",
      "Epoch 28, Loss: 0.10821212277126808\n",
      "Epoch 29, Loss: 0.10975586882086161\n",
      "Epoch 30, Loss: 0.10633342849451582\n",
      "Epoch 31, Loss: 0.10192659233363034\n",
      "Epoch 32, Loss: 0.101986020648852\n",
      "Epoch 33, Loss: 0.10199419637202906\n",
      "Epoch 34, Loss: 0.09747826804459328\n",
      "Epoch 35, Loss: 0.09530467417700371\n",
      "Epoch 36, Loss: 0.09437231937159474\n",
      "Epoch 37, Loss: 0.0930960247987726\n",
      "Epoch 38, Loss: 0.0934933666328822\n",
      "Epoch 39, Loss: 0.08972122229860785\n",
      "Epoch 40, Loss: 0.09078266235487535\n",
      "Epoch 41, Loss: 0.0868775579213446\n",
      "Epoch 42, Loss: 0.08029226709944973\n",
      "Epoch 43, Loss: 0.08665252715203678\n",
      "Epoch 44, Loss: 0.08655821533270258\n",
      "Epoch 45, Loss: 0.08084500874697309\n",
      "Epoch 46, Loss: 0.07649648178780384\n",
      "Epoch 47, Loss: 0.08370794409599815\n",
      "Epoch 48, Loss: 0.07573357366459095\n",
      "Epoch 49, Loss: 0.07391371742982786\n",
      "Epoch 50, Loss: 0.07834665970889425\n",
      "Epoch 51, Loss: 0.07247227160133479\n",
      "Epoch 52, Loss: 0.0729013181666669\n",
      "Epoch 53, Loss: 0.07380384252225243\n",
      "Epoch 54, Loss: 0.07608092837819519\n",
      "Epoch 55, Loss: 0.07122916376387002\n",
      "Epoch 56, Loss: 0.07612534853837376\n",
      "Epoch 57, Loss: 0.07120611107395962\n",
      "Epoch 58, Loss: 0.06808180086629\n",
      "Epoch 59, Loss: 0.07130621530559438\n",
      "Epoch 60, Loss: 0.07108048092283328\n",
      "Epoch 61, Loss: 0.07327491092303777\n",
      "Epoch 62, Loss: 0.0665410780395032\n",
      "Epoch 63, Loss: 0.06922967373174106\n",
      "Epoch 64, Loss: 0.07386289222274596\n",
      "Epoch 65, Loss: 0.06882511242261777\n",
      "Epoch 66, Loss: 0.06637644273393016\n",
      "Epoch 67, Loss: 0.0676252508663844\n",
      "Epoch 68, Loss: 0.06470182825267694\n",
      "Epoch 69, Loss: 0.06793289160809945\n",
      "Epoch 70, Loss: 0.06886327378983455\n",
      "Epoch 71, Loss: 0.06018515291461881\n",
      "Epoch 72, Loss: 0.06296374455823874\n",
      "Epoch 73, Loss: 0.06052292843174655\n",
      "Epoch 74, Loss: 0.058905726843355904\n",
      "Epoch 75, Loss: 0.057113906189336074\n",
      "Epoch 76, Loss: 0.06696842913249566\n",
      "Epoch 77, Loss: 0.062302878400398186\n",
      "Epoch 78, Loss: 0.05820829854833816\n",
      "Epoch 79, Loss: 0.061131855890135436\n",
      "Epoch 80, Loss: 0.0654539983412263\n",
      "Epoch 81, Loss: 0.061725645823443\n",
      "Epoch 82, Loss: 0.05918597474385266\n",
      "Epoch 83, Loss: 0.05575051436039333\n",
      "Epoch 84, Loss: 0.057023464075868106\n",
      "Epoch 85, Loss: 0.060205151560393765\n",
      "Epoch 86, Loss: 0.06215346606379535\n",
      "Epoch 87, Loss: 0.054451107595630065\n",
      "Epoch 88, Loss: 0.05967860316359535\n",
      "Epoch 89, Loss: 0.05586716498699146\n",
      "Epoch 90, Loss: 0.05783390334955038\n",
      "Epoch 91, Loss: 0.05588317519858538\n",
      "Epoch 92, Loss: 0.054729667835005484\n",
      "Epoch 93, Loss: 0.05708443374525329\n",
      "Epoch 94, Loss: 0.05638125249523485\n",
      "Epoch 95, Loss: 0.05570135603119464\n",
      "Epoch 96, Loss: 0.05825584527453854\n",
      "Epoch 97, Loss: 0.05452068500753376\n",
      "Epoch 98, Loss: 0.05907882833524551\n",
      "Epoch 99, Loss: 0.05826635995511848\n",
      "Epoch 100, Loss: 0.05771948025755409\n"
     ]
    }
   ],
   "execution_count": 16
  },
  {
   "metadata": {
    "ExecuteTime": {
     "end_time": "2025-01-21T06:32:44.316721Z",
     "start_time": "2025-01-21T06:32:44.284228Z"
    }
   },
   "cell_type": "code",
   "source": "model.eval()",
   "id": "b51bcefb6b368188",
   "outputs": [
    {
     "data": {
      "text/plain": [
       "MYCnn(\n",
       "  (features): Sequential(\n",
       "    (0): Conv2d(1, 32, kernel_size=(3, 3), stride=(1, 1), padding=same)\n",
       "    (1): ReLU()\n",
       "    (2): BatchNorm2d(32, eps=1e-05, momentum=0.1, affine=True, track_running_stats=True)\n",
       "    (3): MaxPool2d(kernel_size=2, stride=2, padding=0, dilation=1, ceil_mode=False)\n",
       "    (4): Conv2d(32, 64, kernel_size=(3, 3), stride=(1, 1), padding=same)\n",
       "    (5): ReLU()\n",
       "    (6): BatchNorm2d(64, eps=1e-05, momentum=0.1, affine=True, track_running_stats=True)\n",
       "    (7): MaxPool2d(kernel_size=2, stride=2, padding=0, dilation=1, ceil_mode=False)\n",
       "  )\n",
       "  (classifier): Sequential(\n",
       "    (0): Flatten(start_dim=1, end_dim=-1)\n",
       "    (1): Linear(in_features=3136, out_features=128, bias=True)\n",
       "    (2): ReLU()\n",
       "    (3): Dropout(p=0.4, inplace=False)\n",
       "    (4): Linear(in_features=128, out_features=64, bias=True)\n",
       "    (5): ReLU()\n",
       "    (6): Dropout(p=0.4, inplace=False)\n",
       "    (7): Linear(in_features=64, out_features=10, bias=True)\n",
       "  )\n",
       ")"
      ]
     },
     "execution_count": 17,
     "metadata": {},
     "output_type": "execute_result"
    }
   ],
   "execution_count": 17
  },
  {
   "metadata": {
    "ExecuteTime": {
     "end_time": "2025-01-21T06:33:02.591683Z",
     "start_time": "2025-01-21T06:33:00.726427Z"
    }
   },
   "cell_type": "code",
   "source": [
    "# evaluation \n",
    "total = 0\n",
    "correct = 0\n",
    "with torch.no_grad():\n",
    "    for batch_features , batch_labels in test_loader:\n",
    "        # move data to GPU\n",
    "        batch_features = batch_features.to(device)\n",
    "        batch_labels = batch_labels.to(device)\n",
    "        \n",
    "        \n",
    "        outputs = model(batch_features)\n",
    "        _,predicted = torch.max(outputs,1)\n",
    "        total += batch_labels.shape[0]\n",
    "        correct += (predicted==batch_labels).sum().item()\n",
    "        \n",
    "print(correct/total)"
   ],
   "id": "c1fe43ddffeed2c",
   "outputs": [
    {
     "name": "stdout",
     "output_type": "stream",
     "text": [
      "0.9224166666666667\n"
     ]
    }
   ],
   "execution_count": 18
  },
  {
   "metadata": {},
   "cell_type": "code",
   "outputs": [],
   "execution_count": null,
   "source": "",
   "id": "94c14f12e2d4a475"
  }
 ],
 "metadata": {
  "kernelspec": {
   "display_name": "Python 3",
   "language": "python",
   "name": "python3"
  },
  "language_info": {
   "codemirror_mode": {
    "name": "ipython",
    "version": 2
   },
   "file_extension": ".py",
   "mimetype": "text/x-python",
   "name": "python",
   "nbconvert_exporter": "python",
   "pygments_lexer": "ipython2",
   "version": "2.7.6"
  }
 },
 "nbformat": 4,
 "nbformat_minor": 5
}
