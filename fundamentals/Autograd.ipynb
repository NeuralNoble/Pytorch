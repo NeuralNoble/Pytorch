{
 "cells": [
  {
   "metadata": {},
   "cell_type": "markdown",
   "source": "",
   "id": "fc439e9b56623a9d"
  },
  {
   "metadata": {},
   "cell_type": "markdown",
   "source": [
    "## AutoGrad\n",
    "1. **Feedforward as a Nested Function**:  \n",
    "   When we perform feedforward in a neural network, we're essentially chaining multiple functions (e.g., matrix multiplications, activation functions, etc.) together. Mathematically, this can be seen as a **composition of functions**, which grows complex as the network deepens.\n",
    "\n",
    "\n",
    "   Example:\n",
    "   \\[\n",
    "   y = f(g(h(x)))\n",
    "   \\]\n",
    "   where \\(f\\), \\(g\\), and \\(h\\) represent different layers or transformations.\n",
    "\n",
    "\n",
    "2. **Manual Backpropagation is Tedious**:  \n",
    "   To compute gradients manually during backpropagation, you would need to apply the **chain rule** for derivatives repeatedly for every parameter in the network. This is error-prone and computationally intensive, especially for large models.\n",
    "\n",
    "3. **How Autograd Helps**:  \n",
    "   PyTorch's **Autograd** automates the computation of gradients. It does so by:\n",
    "   - Recording operations performed on tensors in a **computational graph**.\n",
    "   - During backpropagation, it traverses this graph **in reverse** (Reverse Mode Automatic Differentiation) to compute gradients efficiently.\n",
    "\n",
    "   With `autograd`, you just define the forward pass, and gradients for all trainable parameters are computed automatically.\n",
    "\n",
    "### In Summary:\n",
    "Autograd removes the complexity of manually computing derivatives for every parameter in the network, enabling faster experimentation and model development. It’s especially useful when dealing with deep and complex networks!"
   ],
   "id": "c7adf687833fd263"
  },
  {
   "metadata": {
    "ExecuteTime": {
     "end_time": "2025-01-15T09:18:17.561149Z",
     "start_time": "2025-01-15T09:18:17.553964Z"
    }
   },
   "cell_type": "code",
   "source": [
    "import torch\n",
    "x = torch.tensor(3.0,requires_grad=True)"
   ],
   "id": "9f3f41e6827c4c4d",
   "outputs": [],
   "execution_count": 11
  },
  {
   "metadata": {
    "ExecuteTime": {
     "end_time": "2025-01-15T09:18:18.557269Z",
     "start_time": "2025-01-15T09:18:18.552334Z"
    }
   },
   "cell_type": "code",
   "source": "y = x**2",
   "id": "72920cf18fb2357e",
   "outputs": [],
   "execution_count": 12
  },
  {
   "metadata": {
    "ExecuteTime": {
     "end_time": "2025-01-15T09:18:20.568684Z",
     "start_time": "2025-01-15T09:18:20.562095Z"
    }
   },
   "cell_type": "code",
   "source": "x",
   "id": "4a89363c23dff135",
   "outputs": [
    {
     "data": {
      "text/plain": [
       "tensor(3., requires_grad=True)"
      ]
     },
     "execution_count": 13,
     "metadata": {},
     "output_type": "execute_result"
    }
   ],
   "execution_count": 13
  },
  {
   "metadata": {
    "ExecuteTime": {
     "end_time": "2025-01-15T09:18:21.748845Z",
     "start_time": "2025-01-15T09:18:21.743473Z"
    }
   },
   "cell_type": "code",
   "source": "y",
   "id": "14f716aae9a897d5",
   "outputs": [
    {
     "data": {
      "text/plain": [
       "tensor(9., grad_fn=<PowBackward0>)"
      ]
     },
     "execution_count": 14,
     "metadata": {},
     "output_type": "execute_result"
    }
   ],
   "execution_count": 14
  },
  {
   "metadata": {
    "ExecuteTime": {
     "end_time": "2025-01-15T09:18:22.559927Z",
     "start_time": "2025-01-15T09:18:22.555166Z"
    }
   },
   "cell_type": "code",
   "source": "y.backward()",
   "id": "164e458e3edb5dd7",
   "outputs": [],
   "execution_count": 15
  },
  {
   "metadata": {
    "ExecuteTime": {
     "end_time": "2025-01-15T09:18:23.123120Z",
     "start_time": "2025-01-15T09:18:23.117367Z"
    }
   },
   "cell_type": "code",
   "source": "x.grad",
   "id": "8718089737fc0bf5",
   "outputs": [
    {
     "data": {
      "text/plain": [
       "tensor(6.)"
      ]
     },
     "execution_count": 16,
     "metadata": {},
     "output_type": "execute_result"
    }
   ],
   "execution_count": 16
  },
  {
   "metadata": {
    "ExecuteTime": {
     "end_time": "2025-01-15T09:31:10.876211Z",
     "start_time": "2025-01-15T09:31:10.863757Z"
    }
   },
   "cell_type": "code",
   "source": [
    "x = torch.tensor(4.0,requires_grad=True)\n",
    "y = x**2\n",
    "z = torch.sin(y)"
   ],
   "id": "55bdd9cf21e39fc5",
   "outputs": [],
   "execution_count": 23
  },
  {
   "metadata": {
    "ExecuteTime": {
     "end_time": "2025-01-15T09:31:11.365460Z",
     "start_time": "2025-01-15T09:31:11.361351Z"
    }
   },
   "cell_type": "code",
   "source": [
    "print(x)\n",
    "print(y)\n",
    "print(z)"
   ],
   "id": "951f3ea2eea4fe06",
   "outputs": [
    {
     "name": "stdout",
     "output_type": "stream",
     "text": [
      "tensor(4., requires_grad=True)\n",
      "tensor(16., grad_fn=<PowBackward0>)\n",
      "tensor(-0.2879, grad_fn=<SinBackward0>)\n"
     ]
    }
   ],
   "execution_count": 24
  },
  {
   "metadata": {
    "ExecuteTime": {
     "end_time": "2025-01-15T09:31:12.120782Z",
     "start_time": "2025-01-15T09:31:12.116819Z"
    }
   },
   "cell_type": "code",
   "source": "z.backward()",
   "id": "55255e571011511c",
   "outputs": [],
   "execution_count": 25
  },
  {
   "metadata": {
    "ExecuteTime": {
     "end_time": "2025-01-15T09:31:12.723327Z",
     "start_time": "2025-01-15T09:31:12.716295Z"
    }
   },
   "cell_type": "code",
   "source": "x.grad",
   "id": "c2100469f535bb50",
   "outputs": [
    {
     "data": {
      "text/plain": [
       "tensor(-7.6613)"
      ]
     },
     "execution_count": 26,
     "metadata": {},
     "output_type": "execute_result"
    }
   ],
   "execution_count": 26
  },
  {
   "metadata": {
    "ExecuteTime": {
     "end_time": "2025-01-15T13:21:34.718556Z",
     "start_time": "2025-01-15T13:21:34.692539Z"
    }
   },
   "cell_type": "code",
   "source": [
    "# inputs\n",
    "x = torch.tensor(6.7)\n",
    "\n",
    "# true label\n",
    "y = torch.tensor(0.0)\n"
   ],
   "id": "6b66aa0641b556b4",
   "outputs": [],
   "execution_count": 27
  },
  {
   "metadata": {
    "ExecuteTime": {
     "end_time": "2025-01-15T13:24:23.122584Z",
     "start_time": "2025-01-15T13:24:23.112348Z"
    }
   },
   "cell_type": "code",
   "source": [
    "w = torch.tensor(1.0,requires_grad=True)\n",
    "b = torch.tensor(0.0,requires_grad=True)\n",
    "\n",
    "print(w)\n",
    "print(b)"
   ],
   "id": "3d30ba28b2390899",
   "outputs": [
    {
     "name": "stdout",
     "output_type": "stream",
     "text": [
      "tensor(1., requires_grad=True)\n",
      "tensor(0., requires_grad=True)\n"
     ]
    }
   ],
   "execution_count": 31
  },
  {
   "metadata": {
    "ExecuteTime": {
     "end_time": "2025-01-15T13:24:24.637578Z",
     "start_time": "2025-01-15T13:24:24.630688Z"
    }
   },
   "cell_type": "code",
   "source": [
    "z = w*x + b\n",
    "z"
   ],
   "id": "9b0f27b168517804",
   "outputs": [
    {
     "data": {
      "text/plain": [
       "tensor(6.7000, grad_fn=<AddBackward0>)"
      ]
     },
     "execution_count": 32,
     "metadata": {},
     "output_type": "execute_result"
    }
   ],
   "execution_count": 32
  },
  {
   "metadata": {
    "ExecuteTime": {
     "end_time": "2025-01-15T13:24:28.825531Z",
     "start_time": "2025-01-15T13:24:28.820601Z"
    }
   },
   "cell_type": "code",
   "source": [
    "y_pred = torch.sigmoid(z)\n",
    "y_pred"
   ],
   "id": "a646b45284b0a2fb",
   "outputs": [
    {
     "data": {
      "text/plain": [
       "tensor(0.9988, grad_fn=<SigmoidBackward0>)"
      ]
     },
     "execution_count": 33,
     "metadata": {},
     "output_type": "execute_result"
    }
   ],
   "execution_count": 33
  },
  {
   "metadata": {
    "ExecuteTime": {
     "end_time": "2025-01-15T13:27:56.425501Z",
     "start_time": "2025-01-15T13:27:56.416069Z"
    }
   },
   "cell_type": "code",
   "source": [
    "def binary_cross_entropy(prediction, target):\n",
    "    epsilon = 1e-7\n",
    "    prediction = torch.clamp(prediction, epsilon, 1 - epsilon)\n",
    "    return -(target * torch.log(prediction) + (1 - target) * torch.log(1 - prediction))\n",
    "    "
   ],
   "id": "f533318bb11bd194",
   "outputs": [],
   "execution_count": 34
  },
  {
   "metadata": {
    "ExecuteTime": {
     "end_time": "2025-01-15T13:28:14.308858Z",
     "start_time": "2025-01-15T13:28:14.291789Z"
    }
   },
   "cell_type": "code",
   "source": "loss = binary_cross_entropy(y_pred, y)",
   "id": "6b3e07ee4494c67a",
   "outputs": [],
   "execution_count": 35
  },
  {
   "metadata": {
    "ExecuteTime": {
     "end_time": "2025-01-15T13:28:17.808576Z",
     "start_time": "2025-01-15T13:28:17.796453Z"
    }
   },
   "cell_type": "code",
   "source": "loss",
   "id": "4b30af99a6b7247f",
   "outputs": [
    {
     "data": {
      "text/plain": [
       "tensor(6.7012, grad_fn=<NegBackward0>)"
      ]
     },
     "execution_count": 36,
     "metadata": {},
     "output_type": "execute_result"
    }
   ],
   "execution_count": 36
  },
  {
   "metadata": {
    "ExecuteTime": {
     "end_time": "2025-01-15T13:35:14.427568Z",
     "start_time": "2025-01-15T13:35:14.399935Z"
    }
   },
   "cell_type": "code",
   "source": "loss.backward()",
   "id": "5559cb11ee318095",
   "outputs": [],
   "execution_count": 37
  },
  {
   "metadata": {
    "ExecuteTime": {
     "end_time": "2025-01-15T13:35:28.390377Z",
     "start_time": "2025-01-15T13:35:28.381536Z"
    }
   },
   "cell_type": "code",
   "source": "w.grad",
   "id": "c63b51e726c8ae6c",
   "outputs": [
    {
     "data": {
      "text/plain": [
       "tensor(6.6918)"
      ]
     },
     "execution_count": 38,
     "metadata": {},
     "output_type": "execute_result"
    }
   ],
   "execution_count": 38
  },
  {
   "metadata": {
    "ExecuteTime": {
     "end_time": "2025-01-15T13:35:31.886862Z",
     "start_time": "2025-01-15T13:35:31.879904Z"
    }
   },
   "cell_type": "code",
   "source": "b.grad",
   "id": "155aebe54f907812",
   "outputs": [
    {
     "data": {
      "text/plain": [
       "tensor(0.9988)"
      ]
     },
     "execution_count": 39,
     "metadata": {},
     "output_type": "execute_result"
    }
   ],
   "execution_count": 39
  },
  {
   "metadata": {
    "ExecuteTime": {
     "end_time": "2025-01-15T13:48:02.309638Z",
     "start_time": "2025-01-15T13:48:02.305203Z"
    }
   },
   "cell_type": "code",
   "source": [
    "x = torch.tensor([1.,2.,3.],requires_grad=True)\n",
    "x"
   ],
   "id": "88dc96cf80d79da5",
   "outputs": [
    {
     "data": {
      "text/plain": [
       "tensor([1., 2., 3.], requires_grad=True)"
      ]
     },
     "execution_count": 41,
     "metadata": {},
     "output_type": "execute_result"
    }
   ],
   "execution_count": 41
  },
  {
   "metadata": {
    "ExecuteTime": {
     "end_time": "2025-01-15T13:48:14.716764Z",
     "start_time": "2025-01-15T13:48:14.705527Z"
    }
   },
   "cell_type": "code",
   "source": [
    "y = (x**2).mean()\n",
    "y"
   ],
   "id": "8e5847a657d2253",
   "outputs": [
    {
     "data": {
      "text/plain": [
       "tensor(4.6667, grad_fn=<MeanBackward0>)"
      ]
     },
     "execution_count": 42,
     "metadata": {},
     "output_type": "execute_result"
    }
   ],
   "execution_count": 42
  },
  {
   "metadata": {
    "ExecuteTime": {
     "end_time": "2025-01-15T13:48:18.882394Z",
     "start_time": "2025-01-15T13:48:18.879097Z"
    }
   },
   "cell_type": "code",
   "source": "y.backward()",
   "id": "a628d9376a583236",
   "outputs": [],
   "execution_count": 43
  },
  {
   "metadata": {
    "ExecuteTime": {
     "end_time": "2025-01-15T13:48:21.593227Z",
     "start_time": "2025-01-15T13:48:21.580939Z"
    }
   },
   "cell_type": "code",
   "source": "x.grad",
   "id": "bdd12753eb2af015",
   "outputs": [
    {
     "data": {
      "text/plain": [
       "tensor([0.6667, 1.3333, 2.0000])"
      ]
     },
     "execution_count": 44,
     "metadata": {},
     "output_type": "execute_result"
    }
   ],
   "execution_count": 44
  },
  {
   "metadata": {},
   "cell_type": "markdown",
   "source": [
    "### clearing grad\n",
    "\n",
    "The gradients accumulate after each pass and so we need to clear itm\n"
   ],
   "id": "bbd3a5af4938cffb"
  },
  {
   "metadata": {
    "ExecuteTime": {
     "end_time": "2025-01-15T13:53:38.677613Z",
     "start_time": "2025-01-15T13:53:38.662383Z"
    }
   },
   "cell_type": "code",
   "source": "x.grad.zero_()",
   "id": "ba88a42479297e43",
   "outputs": [
    {
     "data": {
      "text/plain": [
       "tensor([0., 0., 0.])"
      ]
     },
     "execution_count": 46,
     "metadata": {},
     "output_type": "execute_result"
    }
   ],
   "execution_count": 46
  },
  {
   "metadata": {},
   "cell_type": "code",
   "outputs": [],
   "execution_count": null,
   "source": "",
   "id": "582df116a7436262"
  }
 ],
 "metadata": {
  "kernelspec": {
   "display_name": "Python 3",
   "language": "python",
   "name": "python3"
  },
  "language_info": {
   "codemirror_mode": {
    "name": "ipython",
    "version": 2
   },
   "file_extension": ".py",
   "mimetype": "text/x-python",
   "name": "python",
   "nbconvert_exporter": "python",
   "pygments_lexer": "ipython2",
   "version": "2.7.6"
  }
 },
 "nbformat": 4,
 "nbformat_minor": 5
}
