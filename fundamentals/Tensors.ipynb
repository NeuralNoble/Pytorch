{
 "cells": [
  {
   "cell_type": "code",
   "id": "initial_id",
   "metadata": {
    "collapsed": true,
    "ExecuteTime": {
     "end_time": "2025-01-14T13:53:31.869781Z",
     "start_time": "2025-01-14T13:53:30.926528Z"
    }
   },
   "source": "import torch",
   "outputs": [],
   "execution_count": 3
  },
  {
   "metadata": {},
   "cell_type": "markdown",
   "source": "# Creating Tensors",
   "id": "fac8bf406e21f755"
  },
  {
   "metadata": {},
   "cell_type": "markdown",
   "source": [
    "### Using empty\n",
    "\n",
    "This function just allocates the memory for the tensor size you pass as the argument\n"
   ],
   "id": "bdea76c0cecfedc0"
  },
  {
   "metadata": {
    "ExecuteTime": {
     "end_time": "2025-01-14T11:37:04.760063Z",
     "start_time": "2025-01-14T11:37:04.721968Z"
    }
   },
   "cell_type": "code",
   "source": "torch.empty(2,3)",
   "id": "35bcd703d487941d",
   "outputs": [
    {
     "data": {
      "text/plain": [
       "tensor([[0., 0., 0.],\n",
       "        [0., 0., 0.]])"
      ]
     },
     "execution_count": 2,
     "metadata": {},
     "output_type": "execute_result"
    }
   ],
   "execution_count": 2
  },
  {
   "metadata": {},
   "cell_type": "markdown",
   "source": "### Using zeeros ",
   "id": "4568671cbac956e6"
  },
  {
   "metadata": {
    "ExecuteTime": {
     "end_time": "2025-01-14T11:38:18.524564Z",
     "start_time": "2025-01-14T11:38:18.513801Z"
    }
   },
   "cell_type": "code",
   "source": "torch.zeros(2,3)",
   "id": "228ed3971859f3bb",
   "outputs": [
    {
     "data": {
      "text/plain": [
       "tensor([[0., 0., 0.],\n",
       "        [0., 0., 0.]])"
      ]
     },
     "execution_count": 4,
     "metadata": {},
     "output_type": "execute_result"
    }
   ],
   "execution_count": 4
  },
  {
   "metadata": {},
   "cell_type": "markdown",
   "source": "### Using Ones",
   "id": "31d36da5ad0e2808"
  },
  {
   "metadata": {
    "ExecuteTime": {
     "end_time": "2025-01-14T11:38:44.731281Z",
     "start_time": "2025-01-14T11:38:44.707704Z"
    }
   },
   "cell_type": "code",
   "source": "torch.ones(2,3)",
   "id": "cd5ba2c129f6e3ac",
   "outputs": [
    {
     "data": {
      "text/plain": [
       "tensor([[1., 1., 1.],\n",
       "        [1., 1., 1.]])"
      ]
     },
     "execution_count": 6,
     "metadata": {},
     "output_type": "execute_result"
    }
   ],
   "execution_count": 6
  },
  {
   "metadata": {},
   "cell_type": "markdown",
   "source": "### Using rand",
   "id": "1d63584103bd4a7"
  },
  {
   "metadata": {
    "ExecuteTime": {
     "end_time": "2025-01-14T11:41:23.548667Z",
     "start_time": "2025-01-14T11:41:23.542736Z"
    }
   },
   "cell_type": "code",
   "source": "torch.rand(2,3)",
   "id": "93d993dea6a18f57",
   "outputs": [
    {
     "data": {
      "text/plain": [
       "tensor([[0.0223, 0.1689, 0.2939],\n",
       "        [0.5185, 0.6977, 0.8000]])"
      ]
     },
     "execution_count": 10,
     "metadata": {},
     "output_type": "execute_result"
    }
   ],
   "execution_count": 10
  },
  {
   "metadata": {
    "ExecuteTime": {
     "end_time": "2025-01-14T11:41:20.905456Z",
     "start_time": "2025-01-14T11:41:20.900317Z"
    }
   },
   "cell_type": "code",
   "source": [
    "torch.manual_seed(0)\n",
    "torch.randn(2,3)"
   ],
   "id": "3920dcffe0b85116",
   "outputs": [
    {
     "data": {
      "text/plain": [
       "tensor([[ 1.5410, -0.2934, -2.1788],\n",
       "        [ 0.5684, -1.0845, -1.3986]])"
      ]
     },
     "execution_count": 9,
     "metadata": {},
     "output_type": "execute_result"
    }
   ],
   "execution_count": 9
  },
  {
   "metadata": {},
   "cell_type": "markdown",
   "source": "### Using tensor",
   "id": "3a28f8e2a409824"
  },
  {
   "metadata": {
    "ExecuteTime": {
     "end_time": "2025-01-14T11:41:53.465131Z",
     "start_time": "2025-01-14T11:41:53.449389Z"
    }
   },
   "cell_type": "code",
   "source": "torch.tensor([1,2,3])",
   "id": "9f9945b29be6e2",
   "outputs": [
    {
     "data": {
      "text/plain": [
       "tensor([1, 2, 3])"
      ]
     },
     "execution_count": 11,
     "metadata": {},
     "output_type": "execute_result"
    }
   ],
   "execution_count": 11
  },
  {
   "metadata": {},
   "cell_type": "markdown",
   "source": "### Other ways",
   "id": "413a71919d564954"
  },
  {
   "metadata": {
    "ExecuteTime": {
     "end_time": "2025-01-14T11:44:04.558292Z",
     "start_time": "2025-01-14T11:44:04.545406Z"
    }
   },
   "cell_type": "code",
   "source": "torch.arange(1,11,2)",
   "id": "fa32aac32c86a623",
   "outputs": [
    {
     "data": {
      "text/plain": [
       "tensor([1, 3, 5, 7, 9])"
      ]
     },
     "execution_count": 12,
     "metadata": {},
     "output_type": "execute_result"
    }
   ],
   "execution_count": 12
  },
  {
   "metadata": {
    "ExecuteTime": {
     "end_time": "2025-01-14T11:45:15.305362Z",
     "start_time": "2025-01-14T11:45:15.292152Z"
    }
   },
   "cell_type": "code",
   "source": "torch.linspace(0,10,10)",
   "id": "a86ae47f79b5e5d2",
   "outputs": [
    {
     "data": {
      "text/plain": [
       "tensor([ 0.0000,  1.1111,  2.2222,  3.3333,  4.4444,  5.5556,  6.6667,  7.7778,\n",
       "         8.8889, 10.0000])"
      ]
     },
     "execution_count": 15,
     "metadata": {},
     "output_type": "execute_result"
    }
   ],
   "execution_count": 15
  },
  {
   "metadata": {},
   "cell_type": "markdown",
   "source": "### Identity matrix",
   "id": "fc68f0cac5da4a55"
  },
  {
   "metadata": {
    "ExecuteTime": {
     "end_time": "2025-01-14T11:46:56.560866Z",
     "start_time": "2025-01-14T11:46:56.542583Z"
    }
   },
   "cell_type": "code",
   "source": "torch.eye(5)  # diagonals items are 1 rest items are 0 and the argument tells the size of the tensor in this case 5*5",
   "id": "97db2d94d3aedda1",
   "outputs": [
    {
     "data": {
      "text/plain": [
       "tensor([[1., 0., 0., 0., 0.],\n",
       "        [0., 1., 0., 0., 0.],\n",
       "        [0., 0., 1., 0., 0.],\n",
       "        [0., 0., 0., 1., 0.],\n",
       "        [0., 0., 0., 0., 1.]])"
      ]
     },
     "execution_count": 18,
     "metadata": {},
     "output_type": "execute_result"
    }
   ],
   "execution_count": 18
  },
  {
   "metadata": {
    "ExecuteTime": {
     "end_time": "2025-01-14T11:47:48.706554Z",
     "start_time": "2025-01-14T11:47:48.695078Z"
    }
   },
   "cell_type": "code",
   "source": "torch.full((2,3),5) # first argument is the size of the tensor and the second is the element ",
   "id": "ae2323595c04e0f6",
   "outputs": [
    {
     "data": {
      "text/plain": [
       "tensor([[5, 5, 5],\n",
       "        [5, 5, 5]])"
      ]
     },
     "execution_count": 20,
     "metadata": {},
     "output_type": "execute_result"
    }
   ],
   "execution_count": 20
  },
  {
   "metadata": {},
   "cell_type": "markdown",
   "source": "# Tensor Shapes",
   "id": "53291d9444027bfd"
  },
  {
   "metadata": {
    "ExecuteTime": {
     "end_time": "2025-01-14T11:49:08.122679Z",
     "start_time": "2025-01-14T11:49:08.107441Z"
    }
   },
   "cell_type": "code",
   "source": [
    "x = torch.tensor([[1,2,4],[3,4,5]])\n",
    "x"
   ],
   "id": "8b72fae943a98250",
   "outputs": [
    {
     "data": {
      "text/plain": [
       "tensor([[1, 2, 4],\n",
       "        [3, 4, 5]])"
      ]
     },
     "execution_count": 23,
     "metadata": {},
     "output_type": "execute_result"
    }
   ],
   "execution_count": 23
  },
  {
   "metadata": {
    "ExecuteTime": {
     "end_time": "2025-01-14T11:48:59.934736Z",
     "start_time": "2025-01-14T11:48:59.929540Z"
    }
   },
   "cell_type": "code",
   "source": "x.shape",
   "id": "9f6bacfecf09dfad",
   "outputs": [
    {
     "data": {
      "text/plain": [
       "torch.Size([2, 3])"
      ]
     },
     "execution_count": 22,
     "metadata": {},
     "output_type": "execute_result"
    }
   ],
   "execution_count": 22
  },
  {
   "metadata": {
    "ExecuteTime": {
     "end_time": "2025-01-14T11:53:05.942259Z",
     "start_time": "2025-01-14T11:53:05.932531Z"
    }
   },
   "cell_type": "code",
   "source": "torch.empty_like(x)",
   "id": "fd37cfac9d67b6d9",
   "outputs": [
    {
     "data": {
      "text/plain": [
       "tensor([[0, 0, 0],\n",
       "        [0, 0, 0]])"
      ]
     },
     "execution_count": 24,
     "metadata": {},
     "output_type": "execute_result"
    }
   ],
   "execution_count": 24
  },
  {
   "metadata": {
    "ExecuteTime": {
     "end_time": "2025-01-14T11:53:18.742637Z",
     "start_time": "2025-01-14T11:53:18.729897Z"
    }
   },
   "cell_type": "code",
   "source": "torch.zeros_like(x)",
   "id": "20aad9777f6cd655",
   "outputs": [
    {
     "data": {
      "text/plain": [
       "tensor([[0, 0, 0],\n",
       "        [0, 0, 0]])"
      ]
     },
     "execution_count": 25,
     "metadata": {},
     "output_type": "execute_result"
    }
   ],
   "execution_count": 25
  },
  {
   "metadata": {
    "ExecuteTime": {
     "end_time": "2025-01-14T11:53:32.831497Z",
     "start_time": "2025-01-14T11:53:32.817931Z"
    }
   },
   "cell_type": "code",
   "source": "torch.ones_like(x)",
   "id": "8de328ab53fe5a60",
   "outputs": [
    {
     "data": {
      "text/plain": [
       "tensor([[1, 1, 1],\n",
       "        [1, 1, 1]])"
      ]
     },
     "execution_count": 26,
     "metadata": {},
     "output_type": "execute_result"
    }
   ],
   "execution_count": 26
  },
  {
   "metadata": {},
   "cell_type": "markdown",
   "source": "# Data Types",
   "id": "3bd191bb932da5b3"
  },
  {
   "metadata": {
    "ExecuteTime": {
     "end_time": "2025-01-14T12:04:01.965360Z",
     "start_time": "2025-01-14T12:04:01.951514Z"
    }
   },
   "cell_type": "code",
   "source": "x.dtype",
   "id": "7d144a272e223247",
   "outputs": [
    {
     "data": {
      "text/plain": [
       "torch.int64"
      ]
     },
     "execution_count": 27,
     "metadata": {},
     "output_type": "execute_result"
    }
   ],
   "execution_count": 27
  },
  {
   "metadata": {
    "ExecuteTime": {
     "end_time": "2025-01-14T12:05:26.903970Z",
     "start_time": "2025-01-14T12:05:26.887558Z"
    }
   },
   "cell_type": "code",
   "source": [
    "# assign dtype\n",
    "torch.tensor([1,2,3],dtype=torch.float32)"
   ],
   "id": "a7a6307052f5c846",
   "outputs": [
    {
     "data": {
      "text/plain": [
       "tensor([1., 2., 3.])"
      ]
     },
     "execution_count": 31,
     "metadata": {},
     "output_type": "execute_result"
    }
   ],
   "execution_count": 31
  },
  {
   "metadata": {
    "ExecuteTime": {
     "end_time": "2025-01-14T12:06:31.836563Z",
     "start_time": "2025-01-14T12:06:31.821500Z"
    }
   },
   "cell_type": "code",
   "source": [
    "# we can change the datatype of a tensor using .to function\n",
    "x.to(torch.float32)"
   ],
   "id": "36bf80f549686d7d",
   "outputs": [
    {
     "data": {
      "text/plain": [
       "tensor([[1., 2., 4.],\n",
       "        [3., 4., 5.]])"
      ]
     },
     "execution_count": 32,
     "metadata": {},
     "output_type": "execute_result"
    }
   ],
   "execution_count": 32
  },
  {
   "metadata": {
    "ExecuteTime": {
     "end_time": "2025-01-14T12:07:52.947081Z",
     "start_time": "2025-01-14T12:07:52.934336Z"
    }
   },
   "cell_type": "code",
   "source": "torch.rand_like(x,dtype=torch.float32)",
   "id": "2b3ece3e3fce2508",
   "outputs": [
    {
     "data": {
      "text/plain": [
       "tensor([[0.1610, 0.2823, 0.6816],\n",
       "        [0.9152, 0.3971, 0.8742]])"
      ]
     },
     "execution_count": 34,
     "metadata": {},
     "output_type": "execute_result"
    }
   ],
   "execution_count": 34
  },
  {
   "metadata": {},
   "cell_type": "markdown",
   "source": "# Mathematical Operations",
   "id": "2e648bedccf06c0e"
  },
  {
   "metadata": {},
   "cell_type": "markdown",
   "source": "## 1. Scaler Operations",
   "id": "a27ba2c53412298f"
  },
  {
   "metadata": {
    "ExecuteTime": {
     "end_time": "2025-01-14T12:08:44.126289Z",
     "start_time": "2025-01-14T12:08:44.115514Z"
    }
   },
   "cell_type": "code",
   "source": "x = torch.randn(2,2)",
   "id": "27f510bcc019c5fe",
   "outputs": [],
   "execution_count": 35
  },
  {
   "metadata": {
    "ExecuteTime": {
     "end_time": "2025-01-14T12:08:45.404196Z",
     "start_time": "2025-01-14T12:08:45.399655Z"
    }
   },
   "cell_type": "code",
   "source": "x",
   "id": "f1d883cdfc2f97a7",
   "outputs": [
    {
     "data": {
      "text/plain": [
       "tensor([[-0.8567,  1.1006],\n",
       "        [-1.0712,  0.1227]])"
      ]
     },
     "execution_count": 36,
     "metadata": {},
     "output_type": "execute_result"
    }
   ],
   "execution_count": 36
  },
  {
   "metadata": {
    "ExecuteTime": {
     "end_time": "2025-01-14T12:08:49.041388Z",
     "start_time": "2025-01-14T12:08:49.028155Z"
    }
   },
   "cell_type": "code",
   "source": "x+2",
   "id": "cefd160a368bbb09",
   "outputs": [
    {
     "data": {
      "text/plain": [
       "tensor([[1.1433, 3.1006],\n",
       "        [0.9288, 2.1227]])"
      ]
     },
     "execution_count": 37,
     "metadata": {},
     "output_type": "execute_result"
    }
   ],
   "execution_count": 37
  },
  {
   "metadata": {
    "ExecuteTime": {
     "end_time": "2025-01-14T12:09:14.614276Z",
     "start_time": "2025-01-14T12:09:14.592128Z"
    }
   },
   "cell_type": "code",
   "source": "x-3",
   "id": "e3323ff7ad2125f1",
   "outputs": [
    {
     "data": {
      "text/plain": [
       "tensor([[-3.8567, -1.8994],\n",
       "        [-4.0712, -2.8773]])"
      ]
     },
     "execution_count": 38,
     "metadata": {},
     "output_type": "execute_result"
    }
   ],
   "execution_count": 38
  },
  {
   "metadata": {
    "ExecuteTime": {
     "end_time": "2025-01-14T12:09:20.339350Z",
     "start_time": "2025-01-14T12:09:20.324340Z"
    }
   },
   "cell_type": "code",
   "source": "x*3",
   "id": "60df5fa0d1110a11",
   "outputs": [
    {
     "data": {
      "text/plain": [
       "tensor([[-2.5700,  3.3018],\n",
       "        [-3.2136,  0.3681]])"
      ]
     },
     "execution_count": 39,
     "metadata": {},
     "output_type": "execute_result"
    }
   ],
   "execution_count": 39
  },
  {
   "metadata": {
    "ExecuteTime": {
     "end_time": "2025-01-14T12:09:30.557410Z",
     "start_time": "2025-01-14T12:09:30.544411Z"
    }
   },
   "cell_type": "code",
   "source": "x/3",
   "id": "f9bf3586facedf2b",
   "outputs": [
    {
     "data": {
      "text/plain": [
       "tensor([[-0.2856,  0.3669],\n",
       "        [-0.3571,  0.0409]])"
      ]
     },
     "execution_count": 40,
     "metadata": {},
     "output_type": "execute_result"
    }
   ],
   "execution_count": 40
  },
  {
   "metadata": {},
   "cell_type": "markdown",
   "source": "## 2. Element wise Operation",
   "id": "ada68239c91b5aa8"
  },
  {
   "metadata": {
    "ExecuteTime": {
     "end_time": "2025-01-14T12:20:29.288723Z",
     "start_time": "2025-01-14T12:20:29.280900Z"
    }
   },
   "cell_type": "code",
   "source": [
    "a = torch.randn(2,3)\n",
    "b = torch.randn(2,3)\n",
    "print(a)\n",
    "print(b)\n"
   ],
   "id": "1809c974943416a7",
   "outputs": [
    {
     "name": "stdout",
     "output_type": "stream",
     "text": [
      "tensor([[-0.5663,  0.3731, -0.8920],\n",
      "        [-1.5091,  0.3704,  1.4565]])\n",
      "tensor([[ 0.9398,  0.7748,  0.1919],\n",
      "        [ 1.2638, -1.2904, -0.7911]])\n"
     ]
    }
   ],
   "execution_count": 42
  },
  {
   "metadata": {
    "ExecuteTime": {
     "end_time": "2025-01-14T12:20:49.556108Z",
     "start_time": "2025-01-14T12:20:49.536868Z"
    }
   },
   "cell_type": "code",
   "source": [
    "# add \n",
    "a+b\n"
   ],
   "id": "6c518c9757bf9893",
   "outputs": [
    {
     "data": {
      "text/plain": [
       "tensor([[ 0.3735,  1.1480, -0.7001],\n",
       "        [-0.2453, -0.9200,  0.6654]])"
      ]
     },
     "execution_count": 43,
     "metadata": {},
     "output_type": "execute_result"
    }
   ],
   "execution_count": 43
  },
  {
   "metadata": {
    "ExecuteTime": {
     "end_time": "2025-01-14T12:20:52.042282Z",
     "start_time": "2025-01-14T12:20:52.028573Z"
    }
   },
   "cell_type": "code",
   "source": "a-b",
   "id": "5e744fd87281d9f1",
   "outputs": [
    {
     "data": {
      "text/plain": [
       "tensor([[-1.5061, -0.4017, -1.0839],\n",
       "        [-2.7729,  1.6608,  2.2476]])"
      ]
     },
     "execution_count": 44,
     "metadata": {},
     "output_type": "execute_result"
    }
   ],
   "execution_count": 44
  },
  {
   "metadata": {
    "ExecuteTime": {
     "end_time": "2025-01-14T12:20:54.529297Z",
     "start_time": "2025-01-14T12:20:54.517619Z"
    }
   },
   "cell_type": "code",
   "source": "a*b",
   "id": "855524f166d9636b",
   "outputs": [
    {
     "data": {
      "text/plain": [
       "tensor([[-0.5322,  0.2891, -0.1711],\n",
       "        [-1.9072, -0.4780, -1.1522]])"
      ]
     },
     "execution_count": 45,
     "metadata": {},
     "output_type": "execute_result"
    }
   ],
   "execution_count": 45
  },
  {
   "metadata": {
    "ExecuteTime": {
     "end_time": "2025-01-14T12:21:55.681578Z",
     "start_time": "2025-01-14T12:21:55.676104Z"
    }
   },
   "cell_type": "code",
   "source": "c = torch.tensor([1,-2,-3,4,5])",
   "id": "12de8dd82cd840aa",
   "outputs": [],
   "execution_count": 46
  },
  {
   "metadata": {
    "ExecuteTime": {
     "end_time": "2025-01-14T12:22:01.557627Z",
     "start_time": "2025-01-14T12:22:01.546158Z"
    }
   },
   "cell_type": "code",
   "source": "torch.abs(c)",
   "id": "d5a22995809e985",
   "outputs": [
    {
     "data": {
      "text/plain": [
       "tensor([1, 2, 3, 4, 5])"
      ]
     },
     "execution_count": 47,
     "metadata": {},
     "output_type": "execute_result"
    }
   ],
   "execution_count": 47
  },
  {
   "metadata": {
    "ExecuteTime": {
     "end_time": "2025-01-14T12:22:27.677636Z",
     "start_time": "2025-01-14T12:22:27.664928Z"
    }
   },
   "cell_type": "code",
   "source": "torch.neg(c)",
   "id": "b169ce23654475a0",
   "outputs": [
    {
     "data": {
      "text/plain": [
       "tensor([-1,  2,  3, -4, -5])"
      ]
     },
     "execution_count": 48,
     "metadata": {},
     "output_type": "execute_result"
    }
   ],
   "execution_count": 48
  },
  {
   "metadata": {
    "ExecuteTime": {
     "end_time": "2025-01-14T12:22:49.367140Z",
     "start_time": "2025-01-14T12:22:49.356640Z"
    }
   },
   "cell_type": "code",
   "source": "torch.round(a)",
   "id": "ae84514a302e393",
   "outputs": [
    {
     "data": {
      "text/plain": [
       "tensor([[-1.,  0., -1.],\n",
       "        [-2.,  0.,  1.]])"
      ]
     },
     "execution_count": 49,
     "metadata": {},
     "output_type": "execute_result"
    }
   ],
   "execution_count": 49
  },
  {
   "metadata": {
    "ExecuteTime": {
     "end_time": "2025-01-14T12:23:28.896053Z",
     "start_time": "2025-01-14T12:23:28.886955Z"
    }
   },
   "cell_type": "code",
   "source": "d = torch.tensor([1.9,2.3,3.7,4.4])",
   "id": "8488c672b44c62cd",
   "outputs": [],
   "execution_count": 50
  },
  {
   "metadata": {
    "ExecuteTime": {
     "end_time": "2025-01-14T12:23:34.542047Z",
     "start_time": "2025-01-14T12:23:34.531025Z"
    }
   },
   "cell_type": "code",
   "source": "torch.ceil(d)",
   "id": "eadb4fc2d9b22add",
   "outputs": [
    {
     "data": {
      "text/plain": [
       "tensor([2., 3., 4., 5.])"
      ]
     },
     "execution_count": 51,
     "metadata": {},
     "output_type": "execute_result"
    }
   ],
   "execution_count": 51
  },
  {
   "metadata": {
    "ExecuteTime": {
     "end_time": "2025-01-14T12:23:44.044551Z",
     "start_time": "2025-01-14T12:23:44.036087Z"
    }
   },
   "cell_type": "code",
   "source": "torch.floor(d)",
   "id": "53d198c053eeeaa1",
   "outputs": [
    {
     "data": {
      "text/plain": [
       "tensor([1., 2., 3., 4.])"
      ]
     },
     "execution_count": 52,
     "metadata": {},
     "output_type": "execute_result"
    }
   ],
   "execution_count": 52
  },
  {
   "metadata": {
    "ExecuteTime": {
     "end_time": "2025-01-14T12:24:22.327123Z",
     "start_time": "2025-01-14T12:24:22.316269Z"
    }
   },
   "cell_type": "code",
   "source": [
    "# clamp\n",
    "torch.clamp(d,min=2,max =3)"
   ],
   "id": "d0e3fb309bf62ccd",
   "outputs": [
    {
     "data": {
      "text/plain": [
       "tensor([2.0000, 2.3000, 3.0000, 3.0000])"
      ]
     },
     "execution_count": 53,
     "metadata": {},
     "output_type": "execute_result"
    }
   ],
   "execution_count": 53
  },
  {
   "metadata": {},
   "cell_type": "markdown",
   "source": [
    "## 3. Reduction Operation\n",
    "\n",
    "You reduce the entire tensor in to a single number"
   ],
   "id": "26481f0e8b54e980"
  },
  {
   "metadata": {
    "ExecuteTime": {
     "end_time": "2025-01-14T12:28:34.413846Z",
     "start_time": "2025-01-14T12:28:34.408643Z"
    }
   },
   "cell_type": "code",
   "source": "e = torch.randint(size=(2,3),low=0,high=10,dtype=torch.float32)",
   "id": "bfcfa78680d3b3d7",
   "outputs": [],
   "execution_count": 63
  },
  {
   "metadata": {},
   "cell_type": "code",
   "outputs": [],
   "execution_count": null,
   "source": "",
   "id": "1f16e128b81c2d41"
  },
  {
   "metadata": {
    "ExecuteTime": {
     "end_time": "2025-01-14T12:30:08.496404Z",
     "start_time": "2025-01-14T12:30:08.483694Z"
    }
   },
   "cell_type": "code",
   "source": "e",
   "id": "15813702778caee5",
   "outputs": [
    {
     "data": {
      "text/plain": [
       "tensor([[3., 4., 5.],\n",
       "        [0., 8., 2.]])"
      ]
     },
     "execution_count": 71,
     "metadata": {},
     "output_type": "execute_result"
    }
   ],
   "execution_count": 71
  },
  {
   "metadata": {
    "ExecuteTime": {
     "end_time": "2025-01-14T12:26:14.007160Z",
     "start_time": "2025-01-14T12:26:13.992485Z"
    }
   },
   "cell_type": "code",
   "source": [
    "# sum\n",
    "torch.sum(e)"
   ],
   "id": "8faec7264fae1903",
   "outputs": [
    {
     "data": {
      "text/plain": [
       "tensor(37)"
      ]
     },
     "execution_count": 57,
     "metadata": {},
     "output_type": "execute_result"
    }
   ],
   "execution_count": 57
  },
  {
   "metadata": {
    "ExecuteTime": {
     "end_time": "2025-01-14T12:27:47.692832Z",
     "start_time": "2025-01-14T12:27:47.684210Z"
    }
   },
   "cell_type": "code",
   "source": [
    "# sum along columns\n",
    "torch.sum(e,0)"
   ],
   "id": "674b4dc886fa1a58",
   "outputs": [
    {
     "data": {
      "text/plain": [
       "tensor([10, 15, 12])"
      ]
     },
     "execution_count": 60,
     "metadata": {},
     "output_type": "execute_result"
    }
   ],
   "execution_count": 60
  },
  {
   "metadata": {
    "ExecuteTime": {
     "end_time": "2025-01-14T12:27:54.110840Z",
     "start_time": "2025-01-14T12:27:54.104995Z"
    }
   },
   "cell_type": "code",
   "source": [
    "# sum along rows\n",
    "torch.sum(e,1)"
   ],
   "id": "aa0a2b762b969699",
   "outputs": [
    {
     "data": {
      "text/plain": [
       "tensor([15, 22])"
      ]
     },
     "execution_count": 61,
     "metadata": {},
     "output_type": "execute_result"
    }
   ],
   "execution_count": 61
  },
  {
   "metadata": {
    "ExecuteTime": {
     "end_time": "2025-01-14T12:28:36.633570Z",
     "start_time": "2025-01-14T12:28:36.623903Z"
    }
   },
   "cell_type": "code",
   "source": [
    "# mean\n",
    "torch.mean(e)"
   ],
   "id": "b5fd9e6625195a6b",
   "outputs": [
    {
     "data": {
      "text/plain": [
       "tensor(3.6667)"
      ]
     },
     "execution_count": 64,
     "metadata": {},
     "output_type": "execute_result"
    }
   ],
   "execution_count": 64
  },
  {
   "metadata": {
    "ExecuteTime": {
     "end_time": "2025-01-14T12:28:56.757257Z",
     "start_time": "2025-01-14T12:28:56.746379Z"
    }
   },
   "cell_type": "code",
   "source": [
    "# mean along col\n",
    "torch.mean(e,0)"
   ],
   "id": "f3fe845a184ec94d",
   "outputs": [
    {
     "data": {
      "text/plain": [
       "tensor([1.5000, 6.0000, 3.5000])"
      ]
     },
     "execution_count": 65,
     "metadata": {},
     "output_type": "execute_result"
    }
   ],
   "execution_count": 65
  },
  {
   "metadata": {
    "ExecuteTime": {
     "end_time": "2025-01-14T12:29:33.461376Z",
     "start_time": "2025-01-14T12:29:33.446552Z"
    }
   },
   "cell_type": "code",
   "source": [
    "# median\n",
    "torch.median(e)"
   ],
   "id": "d168de0467f43481",
   "outputs": [
    {
     "data": {
      "text/plain": [
       "tensor(3.)"
      ]
     },
     "execution_count": 66,
     "metadata": {},
     "output_type": "execute_result"
    }
   ],
   "execution_count": 66
  },
  {
   "metadata": {
    "ExecuteTime": {
     "end_time": "2025-01-14T12:29:39.120236Z",
     "start_time": "2025-01-14T12:29:39.112787Z"
    }
   },
   "cell_type": "code",
   "source": "torch.max(e)",
   "id": "4e4fc5316d1b5c31",
   "outputs": [
    {
     "data": {
      "text/plain": [
       "tensor(8.)"
      ]
     },
     "execution_count": 67,
     "metadata": {},
     "output_type": "execute_result"
    }
   ],
   "execution_count": 67
  },
  {
   "metadata": {
    "ExecuteTime": {
     "end_time": "2025-01-14T12:29:42.897775Z",
     "start_time": "2025-01-14T12:29:42.889669Z"
    }
   },
   "cell_type": "code",
   "source": "torch.min(e)",
   "id": "6027eb4dd49702da",
   "outputs": [
    {
     "data": {
      "text/plain": [
       "tensor(0.)"
      ]
     },
     "execution_count": 68,
     "metadata": {},
     "output_type": "execute_result"
    }
   ],
   "execution_count": 68
  },
  {
   "metadata": {
    "ExecuteTime": {
     "end_time": "2025-01-14T12:29:52.902097Z",
     "start_time": "2025-01-14T12:29:52.891004Z"
    }
   },
   "cell_type": "code",
   "source": "torch.prod(e)\n",
   "id": "fa6977f9c9290482",
   "outputs": [
    {
     "data": {
      "text/plain": [
       "tensor(0.)"
      ]
     },
     "execution_count": 69,
     "metadata": {},
     "output_type": "execute_result"
    }
   ],
   "execution_count": 69
  },
  {
   "metadata": {
    "ExecuteTime": {
     "end_time": "2025-01-14T12:29:59.843715Z",
     "start_time": "2025-01-14T12:29:59.829427Z"
    }
   },
   "cell_type": "code",
   "source": "e",
   "id": "33650b1d9db30a3",
   "outputs": [
    {
     "data": {
      "text/plain": [
       "tensor([[3., 4., 5.],\n",
       "        [0., 8., 2.]])"
      ]
     },
     "execution_count": 70,
     "metadata": {},
     "output_type": "execute_result"
    }
   ],
   "execution_count": 70
  },
  {
   "metadata": {
    "ExecuteTime": {
     "end_time": "2025-01-14T12:30:33.274784Z",
     "start_time": "2025-01-14T12:30:33.261924Z"
    }
   },
   "cell_type": "code",
   "source": [
    "# Standard deviation \n",
    "torch.std(e)"
   ],
   "id": "ea9ff1b7952f65a7",
   "outputs": [
    {
     "data": {
      "text/plain": [
       "tensor(2.7325)"
      ]
     },
     "execution_count": 72,
     "metadata": {},
     "output_type": "execute_result"
    }
   ],
   "execution_count": 72
  },
  {
   "metadata": {
    "ExecuteTime": {
     "end_time": "2025-01-14T12:30:46.881849Z",
     "start_time": "2025-01-14T12:30:46.869852Z"
    }
   },
   "cell_type": "code",
   "source": [
    "# Variance \n",
    "torch.var(e)"
   ],
   "id": "238b134d31c20a1c",
   "outputs": [
    {
     "data": {
      "text/plain": [
       "tensor(7.4667)"
      ]
     },
     "execution_count": 73,
     "metadata": {},
     "output_type": "execute_result"
    }
   ],
   "execution_count": 73
  },
  {
   "metadata": {
    "ExecuteTime": {
     "end_time": "2025-01-14T12:31:41.534391Z",
     "start_time": "2025-01-14T12:31:41.526631Z"
    }
   },
   "cell_type": "code",
   "source": [
    "# argmax    returns the index of the max element\n",
    "torch.argmax(e)"
   ],
   "id": "c665432469006953",
   "outputs": [
    {
     "data": {
      "text/plain": [
       "tensor(4)"
      ]
     },
     "execution_count": 75,
     "metadata": {},
     "output_type": "execute_result"
    }
   ],
   "execution_count": 75
  },
  {
   "metadata": {
    "ExecuteTime": {
     "end_time": "2025-01-14T12:31:47.452391Z",
     "start_time": "2025-01-14T12:31:47.441558Z"
    }
   },
   "cell_type": "code",
   "source": "torch.argmin(e)",
   "id": "4c971a0e6da27cf6",
   "outputs": [
    {
     "data": {
      "text/plain": [
       "tensor(3)"
      ]
     },
     "execution_count": 76,
     "metadata": {},
     "output_type": "execute_result"
    }
   ],
   "execution_count": 76
  },
  {
   "metadata": {},
   "cell_type": "markdown",
   "source": "## 4. Matrix Operations",
   "id": "ae8329fadb1b02f5"
  },
  {
   "metadata": {
    "ExecuteTime": {
     "end_time": "2025-01-14T12:34:00.610098Z",
     "start_time": "2025-01-14T12:34:00.597187Z"
    }
   },
   "cell_type": "code",
   "source": [
    "f = torch.randint(size=(2,3),low=0,high=10)\n",
    "g = torch.randint(size=(3,2),low=0,high=10)\n",
    "\n",
    "print(g)\n",
    "print(f)"
   ],
   "id": "c2fb74b577ba863f",
   "outputs": [
    {
     "name": "stdout",
     "output_type": "stream",
     "text": [
      "tensor([[7, 2],\n",
      "        [5, 6],\n",
      "        [6, 5]])\n",
      "tensor([[2, 8, 5],\n",
      "        [6, 6, 5]])\n"
     ]
    }
   ],
   "execution_count": 81
  },
  {
   "metadata": {
    "ExecuteTime": {
     "end_time": "2025-01-14T12:34:01.774897Z",
     "start_time": "2025-01-14T12:34:01.770220Z"
    }
   },
   "cell_type": "code",
   "source": [
    "# matrix mult\n",
    "torch.matmul(f,g)"
   ],
   "id": "3f55872ad2cf1272",
   "outputs": [
    {
     "data": {
      "text/plain": [
       "tensor([[ 84,  77],\n",
       "        [102,  73]])"
      ]
     },
     "execution_count": 82,
     "metadata": {},
     "output_type": "execute_result"
    }
   ],
   "execution_count": 82
  },
  {
   "metadata": {
    "ExecuteTime": {
     "end_time": "2025-01-14T13:09:38.571019Z",
     "start_time": "2025-01-14T13:09:38.529626Z"
    }
   },
   "cell_type": "code",
   "source": [
    "vector1 = torch.tensor([1,2])\n",
    "vector2 = torch.tensor([4,5])\n",
    "\n",
    "torch.dot(vector1,vector2)"
   ],
   "id": "e53c7c2253f59435",
   "outputs": [
    {
     "data": {
      "text/plain": [
       "tensor(14)"
      ]
     },
     "execution_count": 83,
     "metadata": {},
     "output_type": "execute_result"
    }
   ],
   "execution_count": 83
  },
  {
   "metadata": {
    "ExecuteTime": {
     "end_time": "2025-01-14T13:11:33.214346Z",
     "start_time": "2025-01-14T13:11:33.207277Z"
    }
   },
   "cell_type": "code",
   "source": [
    "# transpose \n",
    "f"
   ],
   "id": "788ae1c89fce7ad0",
   "outputs": [
    {
     "data": {
      "text/plain": [
       "tensor([[2, 8, 5],\n",
       "        [6, 6, 5]])"
      ]
     },
     "execution_count": 84,
     "metadata": {},
     "output_type": "execute_result"
    }
   ],
   "execution_count": 84
  },
  {
   "metadata": {
    "ExecuteTime": {
     "end_time": "2025-01-14T13:12:08.468508Z",
     "start_time": "2025-01-14T13:12:08.451127Z"
    }
   },
   "cell_type": "code",
   "source": "torch.transpose(f,0,1)",
   "id": "43212f08f37544e",
   "outputs": [
    {
     "data": {
      "text/plain": [
       "tensor([[2, 6],\n",
       "        [8, 6],\n",
       "        [5, 5]])"
      ]
     },
     "execution_count": 88,
     "metadata": {},
     "output_type": "execute_result"
    }
   ],
   "execution_count": 88
  },
  {
   "metadata": {
    "ExecuteTime": {
     "end_time": "2025-01-14T13:12:24.642508Z",
     "start_time": "2025-01-14T13:12:24.627495Z"
    }
   },
   "cell_type": "code",
   "source": [
    "h = torch.randint(size=(3,3),low=0,high=10,dtype=torch.float32)\n",
    "h"
   ],
   "id": "e16a8851190c0676",
   "outputs": [
    {
     "data": {
      "text/plain": [
       "tensor([[4., 0., 8.],\n",
       "        [1., 7., 8.],\n",
       "        [5., 4., 4.]])"
      ]
     },
     "execution_count": 89,
     "metadata": {},
     "output_type": "execute_result"
    }
   ],
   "execution_count": 89
  },
  {
   "metadata": {
    "ExecuteTime": {
     "end_time": "2025-01-14T13:12:30.932895Z",
     "start_time": "2025-01-14T13:12:30.909444Z"
    }
   },
   "cell_type": "code",
   "source": "torch.det(h)",
   "id": "19a868fade7b2493",
   "outputs": [
    {
     "data": {
      "text/plain": [
       "tensor(-264.)"
      ]
     },
     "execution_count": 90,
     "metadata": {},
     "output_type": "execute_result"
    }
   ],
   "execution_count": 90
  },
  {
   "metadata": {},
   "cell_type": "markdown",
   "source": "### Comparison operations\n",
   "id": "ce12d0dc77241c01"
  },
  {
   "metadata": {
    "ExecuteTime": {
     "end_time": "2025-01-14T13:19:23.498902Z",
     "start_time": "2025-01-14T13:19:23.493544Z"
    }
   },
   "cell_type": "code",
   "source": [
    "i = torch.randint(size=(2,3),low=0,high=10)\n",
    "j = torch.randint(size=(2,3),low=0,high=10)\n"
   ],
   "id": "540fa5e0fcaa417d",
   "outputs": [],
   "execution_count": 91
  },
  {
   "metadata": {
    "ExecuteTime": {
     "end_time": "2025-01-14T13:19:40.221665Z",
     "start_time": "2025-01-14T13:19:40.208905Z"
    }
   },
   "cell_type": "code",
   "source": [
    "# greater than \n",
    "i>j"
   ],
   "id": "cd1ca58947c7f7fb",
   "outputs": [
    {
     "data": {
      "text/plain": [
       "tensor([[ True, False,  True],\n",
       "        [ True, False,  True]])"
      ]
     },
     "execution_count": 92,
     "metadata": {},
     "output_type": "execute_result"
    }
   ],
   "execution_count": 92
  },
  {
   "metadata": {
    "ExecuteTime": {
     "end_time": "2025-01-14T13:19:49.901466Z",
     "start_time": "2025-01-14T13:19:49.887758Z"
    }
   },
   "cell_type": "code",
   "source": [
    "# less than \n",
    "i<j"
   ],
   "id": "cf7acce4507caea",
   "outputs": [
    {
     "data": {
      "text/plain": [
       "tensor([[False,  True, False],\n",
       "        [False,  True, False]])"
      ]
     },
     "execution_count": 93,
     "metadata": {},
     "output_type": "execute_result"
    }
   ],
   "execution_count": 93
  },
  {
   "metadata": {
    "ExecuteTime": {
     "end_time": "2025-01-14T13:20:01.343799Z",
     "start_time": "2025-01-14T13:20:01.337465Z"
    }
   },
   "cell_type": "code",
   "source": "i == j",
   "id": "e4dc9e72ae5dd594",
   "outputs": [
    {
     "data": {
      "text/plain": [
       "tensor([[False, False, False],\n",
       "        [False, False, False]])"
      ]
     },
     "execution_count": 94,
     "metadata": {},
     "output_type": "execute_result"
    }
   ],
   "execution_count": 94
  },
  {
   "metadata": {
    "ExecuteTime": {
     "end_time": "2025-01-14T13:20:34.332740Z",
     "start_time": "2025-01-14T13:20:34.324224Z"
    }
   },
   "cell_type": "code",
   "source": [
    "# log\n",
    "\n",
    "torch.log(i)"
   ],
   "id": "f79e3190a8fc292a",
   "outputs": [
    {
     "data": {
      "text/plain": [
       "tensor([[2.0794, 1.3863, 1.3863],\n",
       "        [2.1972,   -inf, 1.9459]])"
      ]
     },
     "execution_count": 95,
     "metadata": {},
     "output_type": "execute_result"
    }
   ],
   "execution_count": 95
  },
  {
   "metadata": {
    "ExecuteTime": {
     "end_time": "2025-01-14T13:20:50.813556Z",
     "start_time": "2025-01-14T13:20:50.805803Z"
    }
   },
   "cell_type": "code",
   "source": "torch.exp(i)",
   "id": "8acd66ddafa8df",
   "outputs": [
    {
     "data": {
      "text/plain": [
       "tensor([[2.9810e+03, 5.4598e+01, 5.4598e+01],\n",
       "        [8.1031e+03, 1.0000e+00, 1.0966e+03]])"
      ]
     },
     "execution_count": 96,
     "metadata": {},
     "output_type": "execute_result"
    }
   ],
   "execution_count": 96
  },
  {
   "metadata": {
    "ExecuteTime": {
     "end_time": "2025-01-14T13:21:01.247867Z",
     "start_time": "2025-01-14T13:21:01.236589Z"
    }
   },
   "cell_type": "code",
   "source": "torch.sqrt(i)",
   "id": "90967eb1ae876af2",
   "outputs": [
    {
     "data": {
      "text/plain": [
       "tensor([[2.8284, 2.0000, 2.0000],\n",
       "        [3.0000, 0.0000, 2.6458]])"
      ]
     },
     "execution_count": 97,
     "metadata": {},
     "output_type": "execute_result"
    }
   ],
   "execution_count": 97
  },
  {
   "metadata": {
    "ExecuteTime": {
     "end_time": "2025-01-14T13:21:24.707835Z",
     "start_time": "2025-01-14T13:21:24.697041Z"
    }
   },
   "cell_type": "code",
   "source": [
    "# sigmoid\n",
    "torch.sigmoid(i)"
   ],
   "id": "74fed9e97fd65530",
   "outputs": [
    {
     "data": {
      "text/plain": [
       "tensor([[0.9997, 0.9820, 0.9820],\n",
       "        [0.9999, 0.5000, 0.9991]])"
      ]
     },
     "execution_count": 98,
     "metadata": {},
     "output_type": "execute_result"
    }
   ],
   "execution_count": 98
  },
  {
   "metadata": {
    "ExecuteTime": {
     "end_time": "2025-01-14T13:22:16.863938Z",
     "start_time": "2025-01-14T13:22:16.848104Z"
    }
   },
   "cell_type": "code",
   "source": [
    "# softmax\n",
    "torch.softmax(x, dim=1)"
   ],
   "id": "52240ccd8a6d181d",
   "outputs": [
    {
     "data": {
      "text/plain": [
       "tensor([[0.1238, 0.8762],\n",
       "        [0.2326, 0.7674]])"
      ]
     },
     "execution_count": 100,
     "metadata": {},
     "output_type": "execute_result"
    }
   ],
   "execution_count": 100
  },
  {
   "metadata": {
    "ExecuteTime": {
     "end_time": "2025-01-14T13:22:25.092337Z",
     "start_time": "2025-01-14T13:22:25.082008Z"
    }
   },
   "cell_type": "code",
   "source": "torch.relu(i)",
   "id": "b786e71d1a379127",
   "outputs": [
    {
     "data": {
      "text/plain": [
       "tensor([[8, 4, 4],\n",
       "        [9, 0, 7]])"
      ]
     },
     "execution_count": 101,
     "metadata": {},
     "output_type": "execute_result"
    }
   ],
   "execution_count": 101
  },
  {
   "metadata": {
    "ExecuteTime": {
     "end_time": "2025-01-14T13:26:32.991183Z",
     "start_time": "2025-01-14T13:26:32.978565Z"
    }
   },
   "cell_type": "code",
   "source": [
    "m = torch.rand(2,3)\n",
    "n = torch.rand(2,3)\n",
    "print(m)\n",
    "print(n)\n"
   ],
   "id": "6dee1975491dca4e",
   "outputs": [
    {
     "name": "stdout",
     "output_type": "stream",
     "text": [
      "tensor([[0.4569, 0.6012, 0.8179],\n",
      "        [0.9736, 0.8175, 0.9747]])\n",
      "tensor([[0.4638, 0.0508, 0.2630],\n",
      "        [0.8405, 0.4968, 0.2515]])\n"
     ]
    }
   ],
   "execution_count": 108
  },
  {
   "metadata": {
    "ExecuteTime": {
     "end_time": "2025-01-14T13:26:35.598455Z",
     "start_time": "2025-01-14T13:26:35.595017Z"
    }
   },
   "cell_type": "code",
   "source": [
    "# it is an inplace operation it will store the result in m instead  of creating a new space in memory\n",
    "m.add_(n)"
   ],
   "id": "8a603bbf8c956a3a",
   "outputs": [
    {
     "data": {
      "text/plain": [
       "tensor([[0.9207, 0.6520, 1.0809],\n",
       "        [1.8141, 1.3143, 1.2262]])"
      ]
     },
     "execution_count": 109,
     "metadata": {},
     "output_type": "execute_result"
    }
   ],
   "execution_count": 109
  },
  {
   "metadata": {
    "ExecuteTime": {
     "end_time": "2025-01-14T13:26:37.293853Z",
     "start_time": "2025-01-14T13:26:37.290118Z"
    }
   },
   "cell_type": "code",
   "source": "m",
   "id": "c8fb30ddd9928b2f",
   "outputs": [
    {
     "data": {
      "text/plain": [
       "tensor([[0.9207, 0.6520, 1.0809],\n",
       "        [1.8141, 1.3143, 1.2262]])"
      ]
     },
     "execution_count": 110,
     "metadata": {},
     "output_type": "execute_result"
    }
   ],
   "execution_count": 110
  },
  {
   "metadata": {
    "ExecuteTime": {
     "end_time": "2025-01-14T13:26:51.814440Z",
     "start_time": "2025-01-14T13:26:51.802995Z"
    }
   },
   "cell_type": "code",
   "source": "n",
   "id": "b0a318928406963c",
   "outputs": [
    {
     "data": {
      "text/plain": [
       "tensor([[0.4638, 0.0508, 0.2630],\n",
       "        [0.8405, 0.4968, 0.2515]])"
      ]
     },
     "execution_count": 111,
     "metadata": {},
     "output_type": "execute_result"
    }
   ],
   "execution_count": 111
  },
  {
   "metadata": {
    "ExecuteTime": {
     "end_time": "2025-01-14T13:27:53.541123Z",
     "start_time": "2025-01-14T13:27:53.530323Z"
    }
   },
   "cell_type": "code",
   "source": "torch.relu(m)",
   "id": "f3a54f882d9740dd",
   "outputs": [
    {
     "data": {
      "text/plain": [
       "tensor([[0.9207, 0.6520, 1.0809],\n",
       "        [1.8141, 1.3143, 1.2262]])"
      ]
     },
     "execution_count": 112,
     "metadata": {},
     "output_type": "execute_result"
    }
   ],
   "execution_count": 112
  },
  {
   "metadata": {
    "ExecuteTime": {
     "end_time": "2025-01-14T13:29:27.019019Z",
     "start_time": "2025-01-14T13:29:27.005376Z"
    }
   },
   "cell_type": "code",
   "source": "m.relu_()",
   "id": "79e3bfd01a724369",
   "outputs": [
    {
     "data": {
      "text/plain": [
       "tensor([[0.9207, 0.6520, 1.0809],\n",
       "        [1.8141, 1.3143, 1.2262]])"
      ]
     },
     "execution_count": 113,
     "metadata": {},
     "output_type": "execute_result"
    }
   ],
   "execution_count": 113
  },
  {
   "metadata": {
    "ExecuteTime": {
     "end_time": "2025-01-14T13:29:28.841937Z",
     "start_time": "2025-01-14T13:29:28.827397Z"
    }
   },
   "cell_type": "code",
   "source": "m",
   "id": "eeb33dcbaee33e1",
   "outputs": [
    {
     "data": {
      "text/plain": [
       "tensor([[0.9207, 0.6520, 1.0809],\n",
       "        [1.8141, 1.3143, 1.2262]])"
      ]
     },
     "execution_count": 114,
     "metadata": {},
     "output_type": "execute_result"
    }
   ],
   "execution_count": 114
  },
  {
   "metadata": {},
   "cell_type": "markdown",
   "source": "for inplace operation just add '_' infront of the function ",
   "id": "fd149f5930441e2d"
  },
  {
   "metadata": {},
   "cell_type": "markdown",
   "source": "## Copying Tensors",
   "id": "c1371d08fda34910"
  },
  {
   "metadata": {
    "ExecuteTime": {
     "end_time": "2025-01-14T13:30:39.436891Z",
     "start_time": "2025-01-14T13:30:39.420120Z"
    }
   },
   "cell_type": "code",
   "source": [
    "a = torch.randn(2,3)\n",
    "a"
   ],
   "id": "80614ae000e55653",
   "outputs": [
    {
     "data": {
      "text/plain": [
       "tensor([[ 1.2827, -0.5575,  0.1922],\n",
       "        [ 0.5196,  0.6670, -0.7107]])"
      ]
     },
     "execution_count": 115,
     "metadata": {},
     "output_type": "execute_result"
    }
   ],
   "execution_count": 115
  },
  {
   "metadata": {
    "ExecuteTime": {
     "end_time": "2025-01-14T13:31:42.541467Z",
     "start_time": "2025-01-14T13:31:42.534685Z"
    }
   },
   "cell_type": "code",
   "source": "b = a",
   "id": "4397cc6bf32d60e5",
   "outputs": [],
   "execution_count": 116
  },
  {
   "metadata": {
    "ExecuteTime": {
     "end_time": "2025-01-14T13:31:44.694934Z",
     "start_time": "2025-01-14T13:31:44.685012Z"
    }
   },
   "cell_type": "code",
   "source": "b",
   "id": "ade652dab8c59bab",
   "outputs": [
    {
     "data": {
      "text/plain": [
       "tensor([[ 1.2827, -0.5575,  0.1922],\n",
       "        [ 0.5196,  0.6670, -0.7107]])"
      ]
     },
     "execution_count": 117,
     "metadata": {},
     "output_type": "execute_result"
    }
   ],
   "execution_count": 117
  },
  {
   "metadata": {
    "ExecuteTime": {
     "end_time": "2025-01-14T13:31:47.955847Z",
     "start_time": "2025-01-14T13:31:47.945506Z"
    }
   },
   "cell_type": "code",
   "source": "id(a)",
   "id": "a3cdf7f1653376ed",
   "outputs": [
    {
     "data": {
      "text/plain": [
       "4646577616"
      ]
     },
     "execution_count": 118,
     "metadata": {},
     "output_type": "execute_result"
    }
   ],
   "execution_count": 118
  },
  {
   "metadata": {
    "ExecuteTime": {
     "end_time": "2025-01-14T13:31:50.140850Z",
     "start_time": "2025-01-14T13:31:50.132920Z"
    }
   },
   "cell_type": "code",
   "source": "id(b)",
   "id": "19f54611f3bcfaaa",
   "outputs": [
    {
     "data": {
      "text/plain": [
       "4646577616"
      ]
     },
     "execution_count": 119,
     "metadata": {},
     "output_type": "execute_result"
    }
   ],
   "execution_count": 119
  },
  {
   "metadata": {
    "ExecuteTime": {
     "end_time": "2025-01-14T13:32:06.476479Z",
     "start_time": "2025-01-14T13:32:06.468696Z"
    }
   },
   "cell_type": "code",
   "source": "a[0][0] = 0",
   "id": "82603ece55902528",
   "outputs": [],
   "execution_count": 120
  },
  {
   "metadata": {
    "ExecuteTime": {
     "end_time": "2025-01-14T13:32:07.401005Z",
     "start_time": "2025-01-14T13:32:07.397857Z"
    }
   },
   "cell_type": "code",
   "source": "a",
   "id": "56b78ffd1332e97d",
   "outputs": [
    {
     "data": {
      "text/plain": [
       "tensor([[ 0.0000, -0.5575,  0.1922],\n",
       "        [ 0.5196,  0.6670, -0.7107]])"
      ]
     },
     "execution_count": 121,
     "metadata": {},
     "output_type": "execute_result"
    }
   ],
   "execution_count": 121
  },
  {
   "metadata": {
    "ExecuteTime": {
     "end_time": "2025-01-14T13:32:09.058095Z",
     "start_time": "2025-01-14T13:32:09.046550Z"
    }
   },
   "cell_type": "code",
   "source": "b",
   "id": "51fbbaeb42fa3d5",
   "outputs": [
    {
     "data": {
      "text/plain": [
       "tensor([[ 0.0000, -0.5575,  0.1922],\n",
       "        [ 0.5196,  0.6670, -0.7107]])"
      ]
     },
     "execution_count": 122,
     "metadata": {},
     "output_type": "execute_result"
    }
   ],
   "execution_count": 122
  },
  {
   "metadata": {},
   "cell_type": "markdown",
   "source": [
    "when we just assign it using '=' we don't really copy it we just give the new variable same memory location so if we change something in a\n",
    "it will reflect in b as well . so it is not true copying "
   ],
   "id": "e952248ba3bdc5ad"
  },
  {
   "metadata": {
    "ExecuteTime": {
     "end_time": "2025-01-14T13:34:33.493896Z",
     "start_time": "2025-01-14T13:34:33.488915Z"
    }
   },
   "cell_type": "code",
   "source": "b = a.clone()",
   "id": "c3f315d88fe64355",
   "outputs": [],
   "execution_count": 123
  },
  {
   "metadata": {
    "ExecuteTime": {
     "end_time": "2025-01-14T13:34:34.867760Z",
     "start_time": "2025-01-14T13:34:34.864062Z"
    }
   },
   "cell_type": "code",
   "source": "a",
   "id": "68b472476e1fa260",
   "outputs": [
    {
     "data": {
      "text/plain": [
       "tensor([[ 0.0000, -0.5575,  0.1922],\n",
       "        [ 0.5196,  0.6670, -0.7107]])"
      ]
     },
     "execution_count": 124,
     "metadata": {},
     "output_type": "execute_result"
    }
   ],
   "execution_count": 124
  },
  {
   "metadata": {
    "ExecuteTime": {
     "end_time": "2025-01-14T13:34:36.023990Z",
     "start_time": "2025-01-14T13:34:36.021169Z"
    }
   },
   "cell_type": "code",
   "source": "b",
   "id": "628072801c9531b5",
   "outputs": [
    {
     "data": {
      "text/plain": [
       "tensor([[ 0.0000, -0.5575,  0.1922],\n",
       "        [ 0.5196,  0.6670, -0.7107]])"
      ]
     },
     "execution_count": 125,
     "metadata": {},
     "output_type": "execute_result"
    }
   ],
   "execution_count": 125
  },
  {
   "metadata": {
    "ExecuteTime": {
     "end_time": "2025-01-14T13:34:44.440756Z",
     "start_time": "2025-01-14T13:34:44.436104Z"
    }
   },
   "cell_type": "code",
   "source": [
    "print(id(a))\n",
    "print(id(b))"
   ],
   "id": "d17e4971a1d4db3b",
   "outputs": [
    {
     "name": "stdout",
     "output_type": "stream",
     "text": [
      "4646577616\n",
      "4646576464\n"
     ]
    }
   ],
   "execution_count": 126
  },
  {
   "metadata": {},
   "cell_type": "markdown",
   "source": [
    "## Tensor Operation on GPU\n",
    "\n",
    "When you create tensors in PyTorch on a GPU, they are stored in the GPU's VRAM (Video RAM), which is dedicated memory on the GPU card."
   ],
   "id": "16c6d3af1f5275fe"
  },
  {
   "metadata": {
    "ExecuteTime": {
     "end_time": "2025-01-14T13:35:57.184700Z",
     "start_time": "2025-01-14T13:35:57.106018Z"
    }
   },
   "cell_type": "code",
   "source": "torch.backends.mps.is_available()",
   "id": "2bab8a2fc2264e23",
   "outputs": [
    {
     "data": {
      "text/plain": [
       "True"
      ]
     },
     "execution_count": 127,
     "metadata": {},
     "output_type": "execute_result"
    }
   ],
   "execution_count": 127
  },
  {
   "metadata": {
    "ExecuteTime": {
     "end_time": "2025-01-14T13:36:23.438855Z",
     "start_time": "2025-01-14T13:36:23.435125Z"
    }
   },
   "cell_type": "code",
   "source": "device = torch.device(\"mps\")",
   "id": "bdc2725033df7edb",
   "outputs": [],
   "execution_count": 128
  },
  {
   "metadata": {
    "ExecuteTime": {
     "end_time": "2025-01-14T13:37:08.228215Z",
     "start_time": "2025-01-14T13:37:06.593553Z"
    }
   },
   "cell_type": "code",
   "source": [
    "# creating a new tensor on Gpu\n",
    "torch.rand((2,3),device=device)"
   ],
   "id": "9a747e3cfd15d13a",
   "outputs": [
    {
     "data": {
      "text/plain": [
       "tensor([[0.3664, 0.0755, 0.7784],\n",
       "        [0.1186, 0.7737, 0.1323]], device='mps:0')"
      ]
     },
     "execution_count": 129,
     "metadata": {},
     "output_type": "execute_result"
    }
   ],
   "execution_count": 129
  },
  {
   "metadata": {
    "ExecuteTime": {
     "end_time": "2025-01-14T13:39:02.607876Z",
     "start_time": "2025-01-14T13:39:02.547826Z"
    }
   },
   "cell_type": "code",
   "source": [
    "# moving an existing tensor to GPU\n",
    "x.to(device)"
   ],
   "id": "7ad2e5e7b8773129",
   "outputs": [
    {
     "data": {
      "text/plain": [
       "tensor([[-0.8567,  1.1006],\n",
       "        [-1.0712,  0.1227]], device='mps:0')"
      ]
     },
     "execution_count": 131,
     "metadata": {},
     "output_type": "execute_result"
    }
   ],
   "execution_count": 131
  },
  {
   "metadata": {
    "ExecuteTime": {
     "end_time": "2025-01-14T13:51:07.659350Z",
     "start_time": "2025-01-14T13:51:00.292049Z"
    }
   },
   "cell_type": "code",
   "source": [
    "import torch\n",
    "import time\n",
    "\n",
    "size = 10000\n",
    "\n",
    "# Creating random tensors on CPU\n",
    "mat_cpu1 = torch.randn(size, size)\n",
    "mat_cpu2 = torch.randn(size, size)\n",
    "\n",
    "# Measuring time for CPU\n",
    "start = time.time()\n",
    "result_cpu = torch.matmul(mat_cpu1, mat_cpu2)\n",
    "end = time.time()\n",
    "cpu_time = end - start\n",
    "print(f\"time on CPU: {cpu_time:.4f} seconds\")\n",
    "\n",
    "# Creating random tensors on GPU\n",
    "device = 'mps'  \n",
    "mat_gpu1 = mat_cpu1.to(device)\n",
    "mat_gpu2 = mat_cpu2.to(device)\n",
    "\n",
    "# Measuring time for GPU\n",
    "start = time.time()\n",
    "result_gpu = torch.matmul(mat_gpu1, mat_gpu2)\n",
    "torch.mps.synchronize()  # Ensure all GPU operations are complete\n",
    "gpu_time = time.time() - start\n",
    "\n",
    "print(f\"time on GPU: {gpu_time:.4f} seconds\")\n",
    "\n",
    "# Comparing performance\n",
    "print(f\"Speedup (CPU/GPU): {cpu_time / gpu_time:.2f}\")\n"
   ],
   "id": "f232f98fa2df9ab9",
   "outputs": [
    {
     "name": "stdout",
     "output_type": "stream",
     "text": [
      "time on CPU: 2.1993 seconds\n",
      "time on GPU: 1.8269 seconds\n",
      "Speedup (CPU/GPU): 1.20\n"
     ]
    }
   ],
   "execution_count": 138
  },
  {
   "metadata": {},
   "cell_type": "markdown",
   "source": "## Reshaping Tensors",
   "id": "6ad0d177b4523d8a"
  },
  {
   "metadata": {
    "ExecuteTime": {
     "end_time": "2025-01-14T13:53:38.670783Z",
     "start_time": "2025-01-14T13:53:38.643710Z"
    }
   },
   "cell_type": "code",
   "source": [
    "one = torch.ones(4,4)\n",
    "one"
   ],
   "id": "834d278a3fa4a8cf",
   "outputs": [
    {
     "data": {
      "text/plain": [
       "tensor([[1., 1., 1., 1.],\n",
       "        [1., 1., 1., 1.],\n",
       "        [1., 1., 1., 1.],\n",
       "        [1., 1., 1., 1.]])"
      ]
     },
     "execution_count": 4,
     "metadata": {},
     "output_type": "execute_result"
    }
   ],
   "execution_count": 4
  },
  {
   "metadata": {
    "ExecuteTime": {
     "end_time": "2025-01-14T13:53:57.293534Z",
     "start_time": "2025-01-14T13:53:57.288472Z"
    }
   },
   "cell_type": "code",
   "source": "one.reshape(2,2,2,2)",
   "id": "49b6b5c54890ffe8",
   "outputs": [
    {
     "data": {
      "text/plain": [
       "tensor([[[[1., 1.],\n",
       "          [1., 1.]],\n",
       "\n",
       "         [[1., 1.],\n",
       "          [1., 1.]]],\n",
       "\n",
       "\n",
       "        [[[1., 1.],\n",
       "          [1., 1.]],\n",
       "\n",
       "         [[1., 1.],\n",
       "          [1., 1.]]]])"
      ]
     },
     "execution_count": 6,
     "metadata": {},
     "output_type": "execute_result"
    }
   ],
   "execution_count": 6
  },
  {
   "metadata": {
    "ExecuteTime": {
     "end_time": "2025-01-15T06:29:38.547960Z",
     "start_time": "2025-01-15T06:29:38.479269Z"
    }
   },
   "cell_type": "code",
   "source": [
    "# flatten\n",
    "one.flatten()"
   ],
   "id": "9ee6a5694407023c",
   "outputs": [
    {
     "data": {
      "text/plain": [
       "tensor([1., 1., 1., 1., 1., 1., 1., 1., 1., 1., 1., 1., 1., 1., 1., 1.])"
      ]
     },
     "execution_count": 7,
     "metadata": {},
     "output_type": "execute_result"
    }
   ],
   "execution_count": 7
  },
  {
   "metadata": {
    "ExecuteTime": {
     "end_time": "2025-01-15T06:30:14.159731Z",
     "start_time": "2025-01-15T06:30:14.142807Z"
    }
   },
   "cell_type": "code",
   "source": [
    "k = torch.rand(2,3,4)\n",
    "k"
   ],
   "id": "ff87836762a1327c",
   "outputs": [
    {
     "data": {
      "text/plain": [
       "tensor([[[0.8854, 0.3333, 0.8100, 0.9400],\n",
       "         [0.0056, 0.8236, 0.9639, 0.7762],\n",
       "         [0.1253, 0.5489, 0.1559, 0.0682]],\n",
       "\n",
       "        [[0.1291, 0.5766, 0.9145, 0.8038],\n",
       "         [0.1342, 0.2373, 0.2181, 0.4657],\n",
       "         [0.7543, 0.1830, 0.6762, 0.4912]]])"
      ]
     },
     "execution_count": 8,
     "metadata": {},
     "output_type": "execute_result"
    }
   ],
   "execution_count": 8
  },
  {
   "metadata": {
    "ExecuteTime": {
     "end_time": "2025-01-15T07:09:46.210863Z",
     "start_time": "2025-01-15T07:09:46.197349Z"
    }
   },
   "cell_type": "code",
   "source": "k.permute(2,0,1).shape",
   "id": "56e246985ebc1c3f",
   "outputs": [
    {
     "data": {
      "text/plain": [
       "torch.Size([4, 2, 3])"
      ]
     },
     "execution_count": 12,
     "metadata": {},
     "output_type": "execute_result"
    }
   ],
   "execution_count": 12
  },
  {
   "metadata": {
    "ExecuteTime": {
     "end_time": "2025-01-15T07:11:35.534170Z",
     "start_time": "2025-01-15T07:11:35.519589Z"
    }
   },
   "cell_type": "code",
   "source": [
    "img = torch.rand(226,226,3)\n",
    "img.unsqueeze(0).shape"
   ],
   "id": "5c1b3e6b45496577",
   "outputs": [
    {
     "data": {
      "text/plain": [
       "torch.Size([1, 226, 226, 3])"
      ]
     },
     "execution_count": 13,
     "metadata": {},
     "output_type": "execute_result"
    }
   ],
   "execution_count": 13
  },
  {
   "metadata": {
    "ExecuteTime": {
     "end_time": "2025-01-15T07:21:14.328541Z",
     "start_time": "2025-01-15T07:21:14.301147Z"
    }
   },
   "cell_type": "code",
   "source": [
    "l = torch.rand(1,20)\n",
    "l"
   ],
   "id": "ff127581d0471f1a",
   "outputs": [
    {
     "data": {
      "text/plain": [
       "tensor([[0.9893, 0.4836, 0.0228, 0.8004, 0.7519, 0.5230, 0.5053, 0.5292, 0.8012,\n",
       "         0.9227, 0.3090, 0.0734, 0.9980, 0.6559, 0.2470, 0.8570, 0.3705, 0.2029,\n",
       "         0.9478, 0.1284]])"
      ]
     },
     "execution_count": 14,
     "metadata": {},
     "output_type": "execute_result"
    }
   ],
   "execution_count": 14
  },
  {
   "metadata": {
    "ExecuteTime": {
     "end_time": "2025-01-15T07:21:47.879113Z",
     "start_time": "2025-01-15T07:21:47.864181Z"
    }
   },
   "cell_type": "code",
   "source": [
    "print(l.squeeze(0).shape)\n",
    "print(l.squeeze(0))"
   ],
   "id": "f5c84f434d7f14b3",
   "outputs": [
    {
     "name": "stdout",
     "output_type": "stream",
     "text": [
      "torch.Size([20])\n",
      "tensor([0.9893, 0.4836, 0.0228, 0.8004, 0.7519, 0.5230, 0.5053, 0.5292, 0.8012,\n",
      "        0.9227, 0.3090, 0.0734, 0.9980, 0.6559, 0.2470, 0.8570, 0.3705, 0.2029,\n",
      "        0.9478, 0.1284])\n"
     ]
    }
   ],
   "execution_count": 16
  },
  {
   "metadata": {
    "ExecuteTime": {
     "end_time": "2025-01-15T07:23:52.322472Z",
     "start_time": "2025-01-15T07:23:52.313828Z"
    }
   },
   "cell_type": "code",
   "source": "import numpy as np",
   "id": "a2c04b451d279479",
   "outputs": [],
   "execution_count": 17
  },
  {
   "metadata": {
    "ExecuteTime": {
     "end_time": "2025-01-15T07:24:16.913125Z",
     "start_time": "2025-01-15T07:24:16.896087Z"
    }
   },
   "cell_type": "code",
   "source": [
    "a = torch.tensor([1,2,3])\n",
    "a"
   ],
   "id": "49c7dea7eb308dea",
   "outputs": [
    {
     "data": {
      "text/plain": [
       "tensor([1, 2, 3])"
      ]
     },
     "execution_count": 18,
     "metadata": {},
     "output_type": "execute_result"
    }
   ],
   "execution_count": 18
  },
  {
   "metadata": {
    "ExecuteTime": {
     "end_time": "2025-01-15T07:24:27.334888Z",
     "start_time": "2025-01-15T07:24:27.315174Z"
    }
   },
   "cell_type": "code",
   "source": [
    "b = a.numpy()\n",
    "b"
   ],
   "id": "1bd03657567e5473",
   "outputs": [
    {
     "data": {
      "text/plain": [
       "array([1, 2, 3])"
      ]
     },
     "execution_count": 19,
     "metadata": {},
     "output_type": "execute_result"
    }
   ],
   "execution_count": 19
  },
  {
   "metadata": {
    "ExecuteTime": {
     "end_time": "2025-01-15T07:30:04.623312Z",
     "start_time": "2025-01-15T07:30:04.617308Z"
    }
   },
   "cell_type": "code",
   "source": "type(b)",
   "id": "ad69bcc95a42dfd1",
   "outputs": [
    {
     "data": {
      "text/plain": [
       "numpy.ndarray"
      ]
     },
     "execution_count": 20,
     "metadata": {},
     "output_type": "execute_result"
    }
   ],
   "execution_count": 20
  },
  {
   "metadata": {},
   "cell_type": "code",
   "outputs": [],
   "execution_count": null,
   "source": "",
   "id": "46c89fe62e423359"
  }
 ],
 "metadata": {
  "kernelspec": {
   "display_name": "Python 3",
   "language": "python",
   "name": "python3"
  },
  "language_info": {
   "codemirror_mode": {
    "name": "ipython",
    "version": 2
   },
   "file_extension": ".py",
   "mimetype": "text/x-python",
   "name": "python",
   "nbconvert_exporter": "python",
   "pygments_lexer": "ipython2",
   "version": "2.7.6"
  }
 },
 "nbformat": 4,
 "nbformat_minor": 5
}
