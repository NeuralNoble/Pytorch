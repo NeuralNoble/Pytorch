{
 "cells": [
  {
   "cell_type": "code",
   "id": "initial_id",
   "metadata": {
    "collapsed": true,
    "ExecuteTime": {
     "end_time": "2025-01-16T07:39:12.847441Z",
     "start_time": "2025-01-16T07:39:12.841287Z"
    }
   },
   "source": [
    "import torch\n",
    "import torch.nn as nn\n"
   ],
   "outputs": [],
   "execution_count": 2
  },
  {
   "metadata": {
    "ExecuteTime": {
     "end_time": "2025-01-16T07:43:33.507564Z",
     "start_time": "2025-01-16T07:43:33.500623Z"
    }
   },
   "cell_type": "code",
   "source": [
    "# create a model class\n",
    "class Model(nn.Module):\n",
    "    def __init__(self,num_features):\n",
    "        super().__init__()\n",
    "        self.linear = nn.Linear(num_features,1)\n",
    "        self.sigmoid = nn.Sigmoid()\n",
    "    \n",
    "    def forward(self,features):\n",
    "        out = self.linear(features)\n",
    "        out = self.sigmoid(out)\n",
    "        return out\n",
    "    \n",
    "        \n"
   ],
   "id": "13c34946e0a165e8",
   "outputs": [],
   "execution_count": 3
  },
  {
   "metadata": {
    "ExecuteTime": {
     "end_time": "2025-01-16T07:46:17.634852Z",
     "start_time": "2025-01-16T07:46:17.581737Z"
    }
   },
   "cell_type": "code",
   "source": [
    "# create a dataset to test\n",
    "features = torch.rand(10,5)\n",
    "\n",
    "# create model\n",
    "model = Model(features.shape[1])\n",
    "\n",
    "# call model for forward pass\n",
    "model(features)"
   ],
   "id": "5dc2b708b74872cd",
   "outputs": [
    {
     "data": {
      "text/plain": [
       "tensor([[0.4388],\n",
       "        [0.4207],\n",
       "        [0.4663],\n",
       "        [0.4828],\n",
       "        [0.4556],\n",
       "        [0.4467],\n",
       "        [0.4762],\n",
       "        [0.4654],\n",
       "        [0.4950],\n",
       "        [0.4992]], grad_fn=<SigmoidBackward0>)"
      ]
     },
     "execution_count": 4,
     "metadata": {},
     "output_type": "execute_result"
    }
   ],
   "execution_count": 4
  },
  {
   "metadata": {
    "ExecuteTime": {
     "end_time": "2025-01-16T07:46:33.385773Z",
     "start_time": "2025-01-16T07:46:33.376111Z"
    }
   },
   "cell_type": "code",
   "source": "model.linear.weight",
   "id": "f964847c78eb9cce",
   "outputs": [
    {
     "data": {
      "text/plain": [
       "Parameter containing:\n",
       "tensor([[ 0.1899, -0.2889,  0.1177, -0.2180, -0.1970]], requires_grad=True)"
      ]
     },
     "execution_count": 5,
     "metadata": {},
     "output_type": "execute_result"
    }
   ],
   "execution_count": 5
  },
  {
   "metadata": {
    "ExecuteTime": {
     "end_time": "2025-01-16T07:46:44.421251Z",
     "start_time": "2025-01-16T07:46:44.398986Z"
    }
   },
   "cell_type": "code",
   "source": "model.linear.bias",
   "id": "ff526dc026003e73",
   "outputs": [
    {
     "data": {
      "text/plain": [
       "Parameter containing:\n",
       "tensor([0.0223], requires_grad=True)"
      ]
     },
     "execution_count": 6,
     "metadata": {},
     "output_type": "execute_result"
    }
   ],
   "execution_count": 6
  },
  {
   "metadata": {
    "ExecuteTime": {
     "end_time": "2025-01-16T07:47:24.029472Z",
     "start_time": "2025-01-16T07:47:24.005626Z"
    }
   },
   "cell_type": "code",
   "source": [
    "from torchinfo import summary\n",
    "summary(model,(10,5))"
   ],
   "id": "a3a74f39d88a3ee8",
   "outputs": [
    {
     "data": {
      "text/plain": [
       "==========================================================================================\n",
       "Layer (type:depth-idx)                   Output Shape              Param #\n",
       "==========================================================================================\n",
       "Model                                    [10, 1]                   --\n",
       "├─Linear: 1-1                            [10, 1]                   6\n",
       "├─Sigmoid: 1-2                           [10, 1]                   --\n",
       "==========================================================================================\n",
       "Total params: 6\n",
       "Trainable params: 6\n",
       "Non-trainable params: 0\n",
       "Total mult-adds (Units.MEGABYTES): 0.00\n",
       "==========================================================================================\n",
       "Input size (MB): 0.00\n",
       "Forward/backward pass size (MB): 0.00\n",
       "Params size (MB): 0.00\n",
       "Estimated Total Size (MB): 0.00\n",
       "=========================================================================================="
      ]
     },
     "execution_count": 7,
     "metadata": {},
     "output_type": "execute_result"
    }
   ],
   "execution_count": 7
  },
  {
   "metadata": {
    "ExecuteTime": {
     "end_time": "2025-01-16T07:52:03.810915Z",
     "start_time": "2025-01-16T07:52:03.800280Z"
    }
   },
   "cell_type": "code",
   "source": [
    "class my_model(nn.Module):\n",
    "    def __init__(self,num_features):\n",
    "        super().__init__()\n",
    "        self.linear1 = nn.Linear(num_features,3)\n",
    "        self.relu = nn.ReLU()\n",
    "        self.linear2 = nn.Linear(3,1)\n",
    "        self.sigmoid = nn.Sigmoid()\n",
    "    \n",
    "    def forward(self,features):\n",
    "        out = self.linear1(features)\n",
    "        out = self.relu(out)\n",
    "        out = self.linear2(out)\n",
    "        out = self.sigmoid(out)\n",
    "        \n",
    "        return out\n",
    "    \n",
    "        "
   ],
   "id": "997b3f35edc94da9",
   "outputs": [],
   "execution_count": 8
  },
  {
   "metadata": {
    "ExecuteTime": {
     "end_time": "2025-01-16T07:52:26.531391Z",
     "start_time": "2025-01-16T07:52:26.506782Z"
    }
   },
   "cell_type": "code",
   "source": [
    "# create a dataset to test\n",
    "features = torch.rand(10,5)\n",
    "\n",
    "# create model\n",
    "model = my_model(features.shape[1])\n",
    "\n",
    "# call model for forward pass\n",
    "model(features)"
   ],
   "id": "e1f14171aa47b585",
   "outputs": [
    {
     "data": {
      "text/plain": [
       "tensor([[0.6074],\n",
       "        [0.5870],\n",
       "        [0.6013],\n",
       "        [0.6019],\n",
       "        [0.6102],\n",
       "        [0.6012],\n",
       "        [0.6155],\n",
       "        [0.5923],\n",
       "        [0.5877],\n",
       "        [0.5974]], grad_fn=<SigmoidBackward0>)"
      ]
     },
     "execution_count": 9,
     "metadata": {},
     "output_type": "execute_result"
    }
   ],
   "execution_count": 9
  },
  {
   "metadata": {
    "ExecuteTime": {
     "end_time": "2025-01-16T07:52:39.185890Z",
     "start_time": "2025-01-16T07:52:39.174610Z"
    }
   },
   "cell_type": "code",
   "source": "model.linear1.weight",
   "id": "df0940200d955c0",
   "outputs": [
    {
     "data": {
      "text/plain": [
       "Parameter containing:\n",
       "tensor([[-0.2854, -0.0042,  0.2292, -0.2090, -0.0252],\n",
       "        [-0.1870, -0.3710, -0.2532, -0.1203,  0.0564],\n",
       "        [-0.1991, -0.3597, -0.4379, -0.2041,  0.3522]], requires_grad=True)"
      ]
     },
     "execution_count": 10,
     "metadata": {},
     "output_type": "execute_result"
    }
   ],
   "execution_count": 10
  },
  {
   "metadata": {
    "ExecuteTime": {
     "end_time": "2025-01-16T07:52:46.762670Z",
     "start_time": "2025-01-16T07:52:46.749237Z"
    }
   },
   "cell_type": "code",
   "source": "model.linear2.weight",
   "id": "d0f92d45b9b95f18",
   "outputs": [
    {
     "data": {
      "text/plain": [
       "Parameter containing:\n",
       "tensor([[-0.2882,  0.3284,  0.3826]], requires_grad=True)"
      ]
     },
     "execution_count": 11,
     "metadata": {},
     "output_type": "execute_result"
    }
   ],
   "execution_count": 11
  },
  {
   "metadata": {
    "ExecuteTime": {
     "end_time": "2025-01-16T07:53:27.806947Z",
     "start_time": "2025-01-16T07:53:27.781071Z"
    }
   },
   "cell_type": "code",
   "source": "summary(model,(10,5))",
   "id": "9ee76c01abd240b3",
   "outputs": [
    {
     "data": {
      "text/plain": [
       "==========================================================================================\n",
       "Layer (type:depth-idx)                   Output Shape              Param #\n",
       "==========================================================================================\n",
       "my_model                                 [10, 1]                   --\n",
       "├─Linear: 1-1                            [10, 3]                   18\n",
       "├─ReLU: 1-2                              [10, 3]                   --\n",
       "├─Linear: 1-3                            [10, 1]                   4\n",
       "├─Sigmoid: 1-4                           [10, 1]                   --\n",
       "==========================================================================================\n",
       "Total params: 22\n",
       "Trainable params: 22\n",
       "Non-trainable params: 0\n",
       "Total mult-adds (Units.MEGABYTES): 0.00\n",
       "==========================================================================================\n",
       "Input size (MB): 0.00\n",
       "Forward/backward pass size (MB): 0.00\n",
       "Params size (MB): 0.00\n",
       "Estimated Total Size (MB): 0.00\n",
       "=========================================================================================="
      ]
     },
     "execution_count": 13,
     "metadata": {},
     "output_type": "execute_result"
    }
   ],
   "execution_count": 13
  },
  {
   "metadata": {
    "ExecuteTime": {
     "end_time": "2025-01-16T08:01:56.637862Z",
     "start_time": "2025-01-16T08:01:56.626888Z"
    }
   },
   "cell_type": "code",
   "source": [
    "# using sequential \n",
    "\n",
    "class my_model(nn.Module):\n",
    "    def __init__(self,num_features):\n",
    "        super().__init__()\n",
    "        self.network = nn.Sequential(\n",
    "            nn.Linear(num_features,3),\n",
    "            nn.ReLU(),\n",
    "            nn.Linear(3,1),\n",
    "            nn.Sigmoid(),\n",
    "            \n",
    "        )\n",
    "        \n",
    "    def forward(self,features):\n",
    "        out = self.network(features)\n",
    "        return out"
   ],
   "id": "e4e4abea57d295c0",
   "outputs": [],
   "execution_count": 14
  },
  {
   "metadata": {
    "ExecuteTime": {
     "end_time": "2025-01-16T08:02:05.037693Z",
     "start_time": "2025-01-16T08:02:05.023Z"
    }
   },
   "cell_type": "code",
   "source": [
    "# create a dataset to test\n",
    "features = torch.rand(10,5)\n",
    "\n",
    "# create model\n",
    "model = my_model(features.shape[1])\n",
    "\n",
    "# call model for forward pass\n",
    "model(features)"
   ],
   "id": "955c19889aa68cb5",
   "outputs": [
    {
     "data": {
      "text/plain": [
       "tensor([[0.6388],\n",
       "        [0.6622],\n",
       "        [0.6698],\n",
       "        [0.6800],\n",
       "        [0.6721],\n",
       "        [0.6672],\n",
       "        [0.6359],\n",
       "        [0.6655],\n",
       "        [0.6512],\n",
       "        [0.6722]], grad_fn=<SigmoidBackward0>)"
      ]
     },
     "execution_count": 15,
     "metadata": {},
     "output_type": "execute_result"
    }
   ],
   "execution_count": 15
  },
  {
   "metadata": {},
   "cell_type": "code",
   "outputs": [],
   "execution_count": null,
   "source": "",
   "id": "5790baa95acc1035"
  }
 ],
 "metadata": {
  "kernelspec": {
   "display_name": "Python 3",
   "language": "python",
   "name": "python3"
  },
  "language_info": {
   "codemirror_mode": {
    "name": "ipython",
    "version": 2
   },
   "file_extension": ".py",
   "mimetype": "text/x-python",
   "name": "python",
   "nbconvert_exporter": "python",
   "pygments_lexer": "ipython2",
   "version": "2.7.6"
  }
 },
 "nbformat": 4,
 "nbformat_minor": 5
}
